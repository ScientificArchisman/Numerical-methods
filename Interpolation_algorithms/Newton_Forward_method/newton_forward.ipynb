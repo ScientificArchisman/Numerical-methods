{
 "cells": [
  {
   "cell_type": "markdown",
   "id": "3d5340124b997474",
   "metadata": {
    "collapsed": false
   },
   "source": [
    "<h1 align=\"center\" style = \"color:red\">Newton Forward Interpolation</h1>\n",
    "\n",
    "---"
   ]
  },
  {
   "cell_type": "code",
   "execution_count": 2,
   "id": "369287215dce8d39",
   "metadata": {
    "ExecuteTime": {
     "end_time": "2023-12-23T09:42:54.602339Z",
     "start_time": "2023-12-23T09:42:54.595189Z"
    },
    "collapsed": false
   },
   "outputs": [],
   "source": [
    "from typing import List, Union, Tuple"
   ]
  },
  {
   "cell_type": "markdown",
   "id": "dd6c8c813ae1dacf",
   "metadata": {
    "collapsed": false
   },
   "source": [
    "Newton Forward Interpolation is a popular method used in numerical analysis to estimate the value of a function at a given point using a set of known data points. This technique is particularly useful when dealing with equally spaced data points. The method is based on Newton's divided difference interpolation formula. Here's a detailed explanation:\n",
    "\n",
    "### Newton Forward Interpolation Formula\n",
    "\n",
    "The formula for Newton Forward Interpolation is given by:\n",
    "\n",
    "$$P(x) = f(x_0) + (s) \\Delta f(x_0) + \\frac{s(s-1)}{2!} \\Delta^2 f(x_0) + \\frac{s(s-1)(s-2)}{3!} \\Delta^3 f(x_0) + \\ldots$$\n",
    "\n",
    "where \n",
    "- $P(x)$ is the interpolated value at $x$.\n",
    "- $f(x_0), f(x_1), \\ldots$ are the values of the function at the given points.\n",
    "- $\\Delta$ denotes the forward difference operator.\n",
    "- $s = \\frac{x - x_0}{h}$ is the normalized form of $x$, with $h$ being the step size.\n",
    "\n",
    "### Forward Difference Calculation\n",
    "\n",
    "The forward differences are calculated as follows:\n",
    "\n",
    "- First forward difference: $$\\Delta f(x_i) = f(x_{i+1}) - f(x_i)$$\n",
    "- Second forward difference: $$\\Delta^2 f(x_i) = \\Delta f(x_{i+1}) - \\Delta f(x_i)$$\n",
    "- Similarly, higher-order differences are computed.\n",
    "\n",
    "### Algorithm Steps\n",
    "\n",
    "1. **Input Data Points**: Start with a set of data points $(x_0, f(x_0)), (x_1, f(x_1)), \\ldots$.\n",
    "2. **Compute Forward Differences**: Calculate the first, second, and higher-order forward differences as needed.\n",
    "3. **Normalization**: Normalize the value of $x$ for which you want to estimate the value of the function using $s = \\frac{x - x_0}{h}$.\n",
    "4. **Apply Formula**: Use the Newton Forward Interpolation formula to calculate $P(x)$.\n",
    "5. **Result**: The value $P(x)$ is the estimate of the function at the desired point.\n",
    "\n",
    "### Implementation Steps\n",
    "\n",
    "1. **Store Data Points**: Store the data points in arrays or lists.\n",
    "2. **Calculate Differences**: Compute the forward differences and store them.\n",
    "3. **Interpolation**: Implement the Newton Forward formula in a loop or recursive function.\n",
    "4. **Input and Output**: Take the value of $x$ as input and output the interpolated value $P(x)$.\n",
    "\n",
    "### Coding Example (Pseudocode)\n",
    "\n",
    "```pseudocode\n",
    "function newtonForwardInterpolation(x, x_points, f_points, h):\n",
    "    n = length of x_points\n",
    "    s = (x - x_points[0]) / h\n",
    "    result = f_points[0]\n",
    "\n",
    "    for i from 1 to n-1:\n",
    "        term = 1\n",
    "        for j from 0 to i-1:\n",
    "            term = term * (s - j)\n",
    "        term = term * forward_difference(f_points, i) / factorial(i)\n",
    "        result = result + term\n",
    "\n",
    "    return result\n",
    "\n",
    "function forward_difference(f_points, order):\n",
    "    differences = copy f_points\n",
    "    for i from 0 to order-1:\n",
    "        for j from 0 to length of differences - i - 1:\n",
    "            differences[j] = differences[j+1] - differences[j]\n",
    "    return differences[0]\n",
    "```\n",
    "\n",
    "This pseudocode represents the basic structure of the Newton Forward Interpolation algorithm. In a practical implementation, additional considerations such as error handling and optimization may be necessary.\n",
    "\n",
    "### Time Complexity\n",
    "\n",
    "The time complexity of the algorithm is $O(n^2)$. This is due to the computation of forward differences and the evaluation of the interpolation formula, each contributing $O(n^2)$ complexity.\n",
    "\n",
    "### Space Complexity\n",
    "\n",
    "The space complexity of the algorithm is also $O(n^2)$. This complexity is primarily due to the storage of the original data points and the computed forward differences."
   ]
  },
  {
   "cell_type": "code",
   "execution_count": 3,
   "id": "initial_id",
   "metadata": {
    "ExecuteTime": {
     "end_time": "2023-12-23T10:08:34.858263Z",
     "start_time": "2023-12-23T10:08:34.855271Z"
    },
    "collapsed": true
   },
   "outputs": [],
   "source": [
    "def newton_forward_interpolation(x: List[Union[int, float]], y: List[Union[int, float]], \n",
    "                              target: Union[int, float]) -> Tuple[int, List[Union[int, float]]]:\n",
    "    \"\"\"\n",
    "    Find the Newton polynomial through the points (x, y) and return its value at target.\n",
    "    Args:\n",
    "        x: The x-coordinates of the points.\n",
    "            NOTE: The points must be equally spaced.\n",
    "        y: The y-coordinates of the points.\n",
    "        target: The points to evaluate the polynomial at.\n",
    "    Returns:\n",
    "        result(int, float): The value of the Newton polynomial through (x, y) evaluated at target.\n",
    "        coefficients(List[Union[int, float]]): The coefficients of the Newton polynomial.\n",
    "    \"\"\"\n",
    "\n",
    "    # Check that the input arrays have the same length\n",
    "    if len(x) != len(y):\n",
    "        raise ValueError(\"The arrays x and y must have the same length.\")\n",
    "    \n",
    "    if target > x[-1] or target < x[0]:\n",
    "        raise ValueError(\"The point t must be in the interval [x_0, x_n].\")\n",
    "    \n",
    "    # Check for equally space data points\n",
    "    h : float = x[1] - x[0]\n",
    "    for i in range(1, len(x) - 1):\n",
    "        if x[i + 1] - x[i] != h:\n",
    "            raise ValueError(\"The points must be equally spaced.\")\n",
    "\n",
    "    # Initialize the polynomial\n",
    "    coefficients = y.copy() # The coefficients of the polynomial\n",
    "\n",
    "    # Loop over the differences\n",
    "    for i in range(1, len(x)):\n",
    "        # Update the polynomial\n",
    "        # Note that the coefficients are overwritten\n",
    "        for j in range(len(x) - i):\n",
    "            # Compute the jth coefficient\n",
    "            coefficients[j] = (coefficients[j + 1] - coefficients[j]) / (i * h)\n",
    "\n",
    "    # Evaluate the polynomial at t\n",
    "    result = coefficients[0]\n",
    "    cumulative_product = 1 # The product term (x - x_0)(x - x_1)...(x - x_n)\n",
    "    for i in range(1, len(x)):\n",
    "        cumulative_product *= (target - x[i - 1]) # Update the product term\n",
    "        result += coefficients[i] * cumulative_product # Update the result\n",
    "\n",
    "\n",
    "    return result, coefficients"
   ]
  },
  {
   "cell_type": "markdown",
   "id": "7d5c08a44f78b10b",
   "metadata": {
    "collapsed": false
   },
   "source": [
    "## Example\n",
    "---"
   ]
  },
  {
   "cell_type": "code",
   "execution_count": 5,
   "id": "c0b1ce3bd5ac7f29",
   "metadata": {
    "ExecuteTime": {
     "end_time": "2023-12-23T10:08:36.324864Z",
     "start_time": "2023-12-23T10:08:36.322728Z"
    },
    "collapsed": false
   },
   "outputs": [
    {
     "name": "stdout",
     "output_type": "stream",
     "text": [
      "(4.0, [1.0, 3.0, 4])\n"
     ]
    }
   ],
   "source": [
    "x = [0, 1, 2]\n",
    "y = [0, 1, 4]\n",
    "t = 1\n",
    "p = newton_forward_interpolation(x, y, t)\n",
    "print(p)"
   ]
  },
  {
   "cell_type": "markdown",
   "id": "61d459ed215b42ab",
   "metadata": {
    "collapsed": false
   },
   "source": [
    "### Theoretical Questions\n",
    "\n",
    "1. **Explain the principle behind Newton Forward Interpolation.**\n",
    "   - What makes it suitable for equally spaced data points?\n",
    "   - How does it differ from other interpolation methods like Lagrange or spline interpolation?\n",
    "\n",
    "2. **Describe how the forward difference table is constructed.**\n",
    "   - What is the significance of each level of difference in the table?\n",
    "\n",
    "3. **Discuss the error in Newton Forward Interpolation.**\n",
    "   - How does the error change with the increase in the number of data points?\n",
    "   - How does the placement of the interpolation point (near the beginning, middle, or end of the data set) affect the error?\n",
    "\n",
    "4. **Compare and contrast Newton's Forward and Backward Interpolation.**\n",
    "   - In what scenarios is one preferred over the other?\n",
    "\n",
    "5. **Explain the concept of divided differences in the context of Newton's Interpolation.**\n",
    "   - How does it relate to the polynomial form of the interpolation function?\n",
    "\n",
    "### Practical Questions\n",
    "\n",
    "1. **Given a set of equally spaced data points, construct a Newton Forward Interpolation polynomial and estimate the value at a specific point.**\n",
    "   - Data points: (1, 2), (2, 3), (3, 5), (4, 7); Estimate value at x = 2.5.\n",
    "\n",
    "2. **Analyze the performance of Newton Forward Interpolation on a dataset with large gaps between some points.**\n",
    "   - Discuss how the interpolation behaves in regions far from the central data points.\n",
    "\n",
    "3. **Implement a Newton Forward Interpolation algorithm in a programming language of your choice.**\n",
    "   - Focus on aspects like handling of floating-point arithmetic and efficiency in computing forward differences.\n",
    "\n",
    "4. **Investigate the effect of adding more data points on the interpolation result.**\n",
    "   - Use a function (e.g., sin(x), cos(x)) to generate data points and interpolate at various points. How does the increasing number of data points impact the accuracy?\n",
    "\n",
    "5. **Compare the results of Newton Forward Interpolation with another interpolation method for the same set of data points.**\n",
    "   - Discuss why the results might differ and where each method excels.\n",
    "\n",
    "These questions cover both the underlying theory of Newton Forward Interpolation and its practical applications. They can be used for self-study, teaching purposes, or in an academic setting to deepen the understanding of numerical interpolation methods."
   ]
  }
 ],
 "metadata": {
  "kernelspec": {
   "display_name": "Python 3",
   "language": "python",
   "name": "python3"
  },
  "language_info": {
   "codemirror_mode": {
    "name": "ipython",
    "version": 3
   },
   "file_extension": ".py",
   "mimetype": "text/x-python",
   "name": "python",
   "nbconvert_exporter": "python",
   "pygments_lexer": "ipython3",
   "version": "3.11.5"
  }
 },
 "nbformat": 4,
 "nbformat_minor": 5
}
