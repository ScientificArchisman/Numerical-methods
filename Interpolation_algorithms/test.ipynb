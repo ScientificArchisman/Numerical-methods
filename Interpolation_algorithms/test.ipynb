{
 "cells": [
  {
   "cell_type": "code",
   "execution_count": 4,
   "id": "initial_id",
   "metadata": {
    "ExecuteTime": {
     "end_time": "2023-12-28T20:48:18.208564Z",
     "start_time": "2023-12-28T20:48:18.198255Z"
    },
    "collapsed": true
   },
   "outputs": [],
   "source": [
    "import numpy as np\n",
    "from typing import List\n",
    "# Import defaultdict to create a dictionary with default values\n",
    "from collections import defaultdict\n",
    "from collections import defaultdict\n",
    "from queue import Queue\n",
    "from copy import  deepcopy\n",
    "import matplotlib.pyplot as plt"
   ]
  },
  {
   "cell_type": "code",
   "execution_count": 2,
   "id": "215314a786aed1c1",
   "metadata": {
    "ExecuteTime": {
     "end_time": "2023-12-23T13:39:50.901585Z",
     "start_time": "2023-12-23T13:39:50.884075Z"
    },
    "collapsed": false
   },
   "outputs": [
    {
     "data": {
      "text/plain": [
       "[3, -1]"
      ]
     },
     "execution_count": 2,
     "metadata": {},
     "output_type": "execute_result"
    }
   ],
   "source": [
    "def nextGreaterElement(nums1: List[int], nums2: List[int]) -> List[int]:\n",
    "    stack, result = [], defaultdict()\n",
    "    for idx2 in range(len(nums2) - 1, -1, -1):\n",
    "        num = nums2[idx2]\n",
    "        if len(stack) == 0:\n",
    "            result[num] = -1\n",
    "        elif stack[-1] > num:\n",
    "            result[num] = stack[-1]\n",
    "        elif stack[-1] <= num:\n",
    "            while len(stack) > 0 and stack[-1] <= num:\n",
    "                stack.pop()\n",
    "            if len(stack) == 0:\n",
    "                result[num] = -1\n",
    "            else:\n",
    "                result[num] = stack[-1]\n",
    "        stack.append(nums2[idx2])\n",
    "    \n",
    "    sol = []\n",
    "    for val in nums1:\n",
    "        sol.append(result[val])\n",
    "    return  sol\n",
    "\n",
    "nums1 = [2, 4]\n",
    "nums2 = [1, 2, 3, 4]\n",
    "nextGreaterElement(nums1, nums2)"
   ]
  },
  {
   "cell_type": "code",
   "execution_count": 57,
   "id": "c8242350c7af7dcb",
   "metadata": {
    "ExecuteTime": {
     "end_time": "2023-12-23T14:31:33.069331Z",
     "start_time": "2023-12-23T14:31:33.066397Z"
    },
    "collapsed": false
   },
   "outputs": [
    {
     "data": {
      "text/plain": [
       "[-1, 5, 4, 3, 2]"
      ]
     },
     "execution_count": 57,
     "metadata": {},
     "output_type": "execute_result"
    }
   ],
   "source": [
    "def nextGreaterElements(nums: List[int]) -> List[int]:\n",
    "    nums = nums[::-1]\n",
    "    length = len(nums)    \n",
    "    stack, result = [], [0] * length\n",
    "    visited = dict([(val, (False, idx)) for idx, val in enumerate(nums)])\n",
    "    \n",
    "    for idx in range(length-1, -1, -1):\n",
    "        num = nums[idx]\n",
    "        if len(stack) == 0:\n",
    "            result[idx] = -1\n",
    "        elif stack[-1] > num:\n",
    "            if visited[num][0]: # Has been visited\n",
    "                result[visited[num][1]] = stack[-1] # Update the point where it was visited as well\n",
    "            result[idx] = stack[-1] # Update current point\n",
    "        elif stack[-1] <= num:\n",
    "            # pop elements as long as we find the greater element\n",
    "            while len(stack) > 0 and stack[-1] <= num:\n",
    "                stack.pop()\n",
    "            if len(stack) == 0:\n",
    "                result[idx] = -1\n",
    "            else: # Has been visited\n",
    "                if visited[num][0]:\n",
    "                    result[visited[num][1]] = stack[-1]\n",
    "                result[idx] = stack[-1]\n",
    "        # Mark the number as visited in the visited array\n",
    "        visited[num] = (True, idx)\n",
    "        stack.append(num)\n",
    "    \n",
    "    return  result[::-1]\n",
    "\n",
    "nums = [5, 4, 3, 2, 1]\n",
    "nextGreaterElements(nums=nums)"
   ]
  },
  {
   "cell_type": "code",
   "execution_count": 68,
   "id": "a8c542aec9e99c09",
   "metadata": {
    "ExecuteTime": {
     "end_time": "2023-12-23T14:53:26.274117Z",
     "start_time": "2023-12-23T14:53:26.260093Z"
    },
    "collapsed": false
   },
   "outputs": [
    {
     "data": {
      "text/plain": [
       "1"
      ]
     },
     "execution_count": 68,
     "metadata": {},
     "output_type": "execute_result"
    }
   ],
   "source": [
    "def maxOperations(nums: List[int], k: int) -> int:\n",
    "    nums.sort()\n",
    "    operations = 0\n",
    "    pointer1, pointer2 = 0, len(nums) - 1\n",
    "    \n",
    "    while pointer1 < pointer2:\n",
    "        summ = nums[pointer1] + nums[pointer2]\n",
    "        if summ == k:\n",
    "            operations += 1\n",
    "            pointer1 += 1\n",
    "            pointer2 -= 1\n",
    "        elif summ < k:\n",
    "            pointer1 += 1\n",
    "        else:\n",
    "            pointer2 -= 1\n",
    "    return operations\n",
    "            \n",
    "nums = [3, 1, 3, 4, 3]\n",
    "k = 6\n",
    "maxOperations(nums, k)"
   ]
  },
  {
   "cell_type": "code",
   "execution_count": 92,
   "id": "8c91b80d4ccc2af8",
   "metadata": {
    "ExecuteTime": {
     "end_time": "2023-12-23T15:29:27.788497Z",
     "start_time": "2023-12-23T15:29:27.784499Z"
    },
    "collapsed": false
   },
   "outputs": [
    {
     "data": {
      "text/plain": [
       "True"
      ]
     },
     "execution_count": 92,
     "metadata": {},
     "output_type": "execute_result"
    }
   ],
   "source": [
    "def canVisitAllRooms(rooms: List[List[int]]) -> bool:\n",
    "    rooms_seen = [False] * (len(rooms))\n",
    "    def dfs(room):\n",
    "        rooms_seen[room] = True\n",
    "        for key in rooms[room]:\n",
    "            if not rooms_seen[key]:\n",
    "                dfs(key)\n",
    "    dfs(0)\n",
    "    if all(rooms_seen):\n",
    "        return True\n",
    "    return False\n",
    "\n",
    "rooms = [[1],[2],[3],[]]\n",
    "canVisitAllRooms(rooms)"
   ]
  },
  {
   "cell_type": "code",
   "execution_count": 54,
   "id": "f65147856f6047f5",
   "metadata": {
    "ExecuteTime": {
     "end_time": "2023-12-25T19:55:49.387986Z",
     "start_time": "2023-12-25T19:55:49.381901Z"
    },
    "collapsed": false
   },
   "outputs": [],
   "source": [
    "def findCircleNum(isConnected: List[List[int]]) -> int:\n",
    "    def make_adjacency_hashmap(adjacency_matrix:List[List[int]]) -> dict:\n",
    "        \"\"\"Create an adjacency list/ adjacency hashmap from an adjacency matrix\n",
    "        Args:\n",
    "            adjacency_matrix(List[List[int]]): the adjacency matrix\n",
    "        Returns:\n",
    "            dict: the adjacency hashmap\"\"\"\n",
    "        n = len(adjacency_matrix)\n",
    "        # Create a hashmap for all the elements in the graph\n",
    "        adj_hashmap = dict([(val+1, []) for val in range(n)])\n",
    "        for i in range(n): # rows\n",
    "            for j in range(n): # columns\n",
    "                if adjacency_matrix[i][j] == 1:\n",
    "                    adj_hashmap[i+1] += [j+1] # Append to dictionary \n",
    "        return adj_hashmap\n",
    "    \n",
    "    # Convert the given adjacency matrix to adjacency hashmap\n",
    "    hashmap = make_adjacency_hashmap(isConnected)\n",
    "    visited = dict([(val+1, False) for val in range(len(hashmap))])\n",
    "    \n",
    "    def dfs(graph:dict, node:int, visited:dict) -> None:\n",
    "        \"\"\"Traverse a graph using the Depth First Search\n",
    "        Args:\n",
    "            graph : the adjacency list of graph vertices\n",
    "            node: the starting node for traversal\n",
    "            visited: an visited hashmap for seeing the nodes already visited\n",
    "        Returns:\n",
    "            None\"\"\"\n",
    "        visited[node] = True\n",
    "        for neighbour in graph[node]:\n",
    "            if not visited[neighbour]:\n",
    "                dfs(graph = graph, node = neighbour, visited = visited)\n",
    "                \n",
    "    counter = 0    # counter to keep track of the number of provinces   \n",
    "    for vertex in hashmap.keys():\n",
    "        if not visited[vertex]:\n",
    "            # if the node has not been visited we can apply dfs there as it is inside\n",
    "            # a province, else we move on to th next province\n",
    "            counter += 1\n",
    "            dfs(graph=hashmap, node=vertex, visited=visited)\n",
    "            \n",
    "    return counter"
   ]
  },
  {
   "cell_type": "code",
   "execution_count": 55,
   "id": "87c4194a65927c6d",
   "metadata": {
    "ExecuteTime": {
     "end_time": "2023-12-25T19:56:08.225072Z",
     "start_time": "2023-12-25T19:56:08.218807Z"
    },
    "collapsed": false
   },
   "outputs": [
    {
     "data": {
      "text/plain": [
       "3"
      ]
     },
     "execution_count": 55,
     "metadata": {},
     "output_type": "execute_result"
    }
   ],
   "source": [
    "isConnected = [[1,0,0],[0,1,0],[0,0,1]]\n",
    "findCircleNum(isConnected)"
   ]
  },
  {
   "cell_type": "code",
   "execution_count": 84,
   "id": "f11ae25f05a96579",
   "metadata": {
    "ExecuteTime": {
     "end_time": "2023-12-26T13:43:56.118980Z",
     "start_time": "2023-12-26T13:41:06.357031Z"
    },
    "collapsed": false
   },
   "outputs": [
    {
     "ename": "KeyboardInterrupt",
     "evalue": "",
     "output_type": "error",
     "traceback": [
      "\u001b[0;31m---------------------------------------------------------------------------\u001b[0m",
      "\u001b[0;31mKeyboardInterrupt\u001b[0m                         Traceback (most recent call last)",
      "Cell \u001b[0;32mIn[84], line 35\u001b[0m\n\u001b[1;32m     31\u001b[0m     \u001b[38;5;28;01mreturn\u001b[39;00m time_stmp\n\u001b[1;32m     34\u001b[0m grid \u001b[38;5;241m=\u001b[39m [[\u001b[38;5;241m2\u001b[39m,\u001b[38;5;241m1\u001b[39m,\u001b[38;5;241m1\u001b[39m],[\u001b[38;5;241m0\u001b[39m,\u001b[38;5;241m1\u001b[39m,\u001b[38;5;241m1\u001b[39m],[\u001b[38;5;241m1\u001b[39m,\u001b[38;5;241m0\u001b[39m,\u001b[38;5;241m1\u001b[39m]]\n\u001b[0;32m---> 35\u001b[0m \u001b[43mbfs\u001b[49m\u001b[43m(\u001b[49m\u001b[43mgrid\u001b[49m\u001b[43m)\u001b[49m\n",
      "Cell \u001b[0;32mIn[84], line 24\u001b[0m, in \u001b[0;36mbfs\u001b[0;34m(grid)\u001b[0m\n\u001b[1;32m     22\u001b[0m nrow \u001b[38;5;241m=\u001b[39m row \u001b[38;5;241m+\u001b[39m d_row[neighbour]\n\u001b[1;32m     23\u001b[0m ncol \u001b[38;5;241m=\u001b[39m col \u001b[38;5;241m+\u001b[39m d_col[neighbour]\n\u001b[0;32m---> 24\u001b[0m \u001b[38;5;28;01mif\u001b[39;00m \u001b[38;5;241m0\u001b[39m \u001b[38;5;241m<\u001b[39m\u001b[38;5;241m=\u001b[39m nrow \u001b[38;5;241m<\u001b[39m n \u001b[38;5;129;01mand\u001b[39;00m \u001b[38;5;241m0\u001b[39m \u001b[38;5;241m<\u001b[39m\u001b[38;5;241m=\u001b[39m ncol \u001b[38;5;241m<\u001b[39m m \u001b[38;5;129;01mand\u001b[39;00m visited[nrow][ncol] \u001b[38;5;241m!=\u001b[39m \u001b[38;5;241m2\u001b[39m \u001b[38;5;129;01mand\u001b[39;00m grid[nrow][ncol] \u001b[38;5;241m==\u001b[39m \u001b[38;5;241m1\u001b[39m:\n\u001b[1;32m     25\u001b[0m     q\u001b[38;5;241m.\u001b[39mput(((nrow, ncol), time \u001b[38;5;241m+\u001b[39m \u001b[38;5;241m1\u001b[39m))\n\u001b[1;32m     26\u001b[0m     count \u001b[38;5;241m+\u001b[39m\u001b[38;5;241m=\u001b[39m \u001b[38;5;241m1\u001b[39m\n",
      "File \u001b[0;32m_pydevd_bundle/pydevd_cython_darwin_311_64.pyx:1187\u001b[0m, in \u001b[0;36m_pydevd_bundle.pydevd_cython_darwin_311_64.SafeCallWrapper.__call__\u001b[0;34m()\u001b[0m\n",
      "File \u001b[0;32m_pydevd_bundle/pydevd_cython_darwin_311_64.pyx:627\u001b[0m, in \u001b[0;36m_pydevd_bundle.pydevd_cython_darwin_311_64.PyDBFrame.trace_dispatch\u001b[0;34m()\u001b[0m\n",
      "File \u001b[0;32m_pydevd_bundle/pydevd_cython_darwin_311_64.pyx:1103\u001b[0m, in \u001b[0;36m_pydevd_bundle.pydevd_cython_darwin_311_64.PyDBFrame.trace_dispatch\u001b[0;34m()\u001b[0m\n",
      "File \u001b[0;32m_pydevd_bundle/pydevd_cython_darwin_311_64.pyx:1061\u001b[0m, in \u001b[0;36m_pydevd_bundle.pydevd_cython_darwin_311_64.PyDBFrame.trace_dispatch\u001b[0;34m()\u001b[0m\n",
      "File \u001b[0;32m/Applications/DataSpell.app/Contents/plugins/python-ce/helpers-pro/jupyter_debug/pydev_jupyter_plugin.py:169\u001b[0m, in \u001b[0;36mstop\u001b[0;34m(plugin, pydb, frame, event, args, stop_info, arg, step_cmd)\u001b[0m\n\u001b[1;32m    167\u001b[0m     frame \u001b[38;5;241m=\u001b[39m suspend_jupyter(main_debugger, thread, frame, step_cmd)\n\u001b[1;32m    168\u001b[0m     \u001b[38;5;28;01mif\u001b[39;00m frame:\n\u001b[0;32m--> 169\u001b[0m         \u001b[43mmain_debugger\u001b[49m\u001b[38;5;241;43m.\u001b[39;49m\u001b[43mdo_wait_suspend\u001b[49m\u001b[43m(\u001b[49m\u001b[43mthread\u001b[49m\u001b[43m,\u001b[49m\u001b[43m \u001b[49m\u001b[43mframe\u001b[49m\u001b[43m,\u001b[49m\u001b[43m \u001b[49m\u001b[43mevent\u001b[49m\u001b[43m,\u001b[49m\u001b[43m \u001b[49m\u001b[43marg\u001b[49m\u001b[43m)\u001b[49m\n\u001b[1;32m    170\u001b[0m         \u001b[38;5;28;01mreturn\u001b[39;00m \u001b[38;5;28;01mTrue\u001b[39;00m\n\u001b[1;32m    171\u001b[0m \u001b[38;5;28;01mreturn\u001b[39;00m \u001b[38;5;28;01mFalse\u001b[39;00m\n",
      "File \u001b[0;32m/Applications/DataSpell.app/Contents/plugins/python-ce/helpers/pydev/pydevd.py:1184\u001b[0m, in \u001b[0;36mPyDB.do_wait_suspend\u001b[0;34m(self, thread, frame, event, arg, send_suspend_message, is_unhandled_exception)\u001b[0m\n\u001b[1;32m   1181\u001b[0m         from_this_thread\u001b[38;5;241m.\u001b[39mappend(frame_id)\n\u001b[1;32m   1183\u001b[0m \u001b[38;5;28;01mwith\u001b[39;00m \u001b[38;5;28mself\u001b[39m\u001b[38;5;241m.\u001b[39m_threads_suspended_single_notification\u001b[38;5;241m.\u001b[39mnotify_thread_suspended(thread_id, stop_reason):\n\u001b[0;32m-> 1184\u001b[0m     \u001b[38;5;28;43mself\u001b[39;49m\u001b[38;5;241;43m.\u001b[39;49m\u001b[43m_do_wait_suspend\u001b[49m\u001b[43m(\u001b[49m\u001b[43mthread\u001b[49m\u001b[43m,\u001b[49m\u001b[43m \u001b[49m\u001b[43mframe\u001b[49m\u001b[43m,\u001b[49m\u001b[43m \u001b[49m\u001b[43mevent\u001b[49m\u001b[43m,\u001b[49m\u001b[43m \u001b[49m\u001b[43marg\u001b[49m\u001b[43m,\u001b[49m\u001b[43m \u001b[49m\u001b[43msuspend_type\u001b[49m\u001b[43m,\u001b[49m\u001b[43m \u001b[49m\u001b[43mfrom_this_thread\u001b[49m\u001b[43m)\u001b[49m\n",
      "File \u001b[0;32m/Applications/DataSpell.app/Contents/plugins/python-ce/helpers/pydev/pydevd.py:1199\u001b[0m, in \u001b[0;36mPyDB._do_wait_suspend\u001b[0;34m(self, thread, frame, event, arg, suspend_type, from_this_thread)\u001b[0m\n\u001b[1;32m   1196\u001b[0m             \u001b[38;5;28mself\u001b[39m\u001b[38;5;241m.\u001b[39m_call_mpl_hook()\n\u001b[1;32m   1198\u001b[0m         \u001b[38;5;28mself\u001b[39m\u001b[38;5;241m.\u001b[39mprocess_internal_commands()\n\u001b[0;32m-> 1199\u001b[0m         time\u001b[38;5;241m.\u001b[39msleep(\u001b[38;5;241m0.01\u001b[39m)\n\u001b[1;32m   1201\u001b[0m \u001b[38;5;28mself\u001b[39m\u001b[38;5;241m.\u001b[39mcancel_async_evaluation(get_current_thread_id(thread), \u001b[38;5;28mstr\u001b[39m(\u001b[38;5;28mid\u001b[39m(frame)))\n\u001b[1;32m   1203\u001b[0m \u001b[38;5;66;03m# process any stepping instructions\u001b[39;00m\n",
      "\u001b[0;31mKeyboardInterrupt\u001b[0m: "
     ]
    }
   ],
   "source": [
    "def bfs(grid: dict) -> int:\n",
    "    n, m = len(grid), len(grid[0]) # Get the dimensions of the grid\n",
    "    q = Queue()\n",
    "    fresh_count = 0\n",
    "    visited = deepcopy(grid)\n",
    "    for i in range(n):\n",
    "        for j in range(m):\n",
    "            if grid[i][j] == 2:\n",
    "                q.put(((i, j), 0)) # the element and the time at which they are rotten\n",
    "            elif grid[i][j] == 1:\n",
    "                fresh_count += 1\n",
    "\n",
    "    time_stmp = 0\n",
    "    d_row = [-1, 0, 1, 0]\n",
    "    d_col = [ 0, 1, 0, -1]\n",
    "    count = 0\n",
    "    while not q.empty():\n",
    "        stamp = q.get()\n",
    "        (row, col), time = stamp[0], stamp[1]\n",
    "        time_stmp = max(time_stmp, time)\n",
    "        for neighbour in range(4):\n",
    "            nrow = row + d_row[neighbour]\n",
    "            ncol = col + d_col[neighbour]\n",
    "            if 0 <= nrow < n and 0 <= ncol < m and visited[nrow][ncol] != 2 and grid[nrow][ncol] == 1:\n",
    "                q.put(((nrow, ncol), time + 1))\n",
    "                count += 1\n",
    "                visited[nrow][ncol] = 2\n",
    "    return fresh_count, count\n",
    "    if fresh_count != count:\n",
    "        return  -1\n",
    "    return time_stmp\n",
    "\n",
    "\n",
    "grid = [[2,1,1],[0,1,1],[1,0,1]]\n",
    "bfs(grid)"
   ]
  },
  {
   "cell_type": "code",
   "execution_count": 9,
   "id": "585b58c39e743920",
   "metadata": {
    "ExecuteTime": {
     "end_time": "2023-12-28T20:49:57.988947Z",
     "start_time": "2023-12-28T20:49:57.981397Z"
    },
    "collapsed": false
   },
   "outputs": [],
   "source": [
    "val_dict = []\n",
    "\n",
    "for i in range(13):\n",
    "    for j in range(13):\n",
    "        for k in range(13):\n",
    "            val_dict.append((i + j + k))"
   ]
  },
  {
   "cell_type": "code",
   "execution_count": 12,
   "id": "879b62970bc3390c",
   "metadata": {
    "ExecuteTime": {
     "end_time": "2023-12-28T20:50:28.501376Z",
     "start_time": "2023-12-28T20:50:28.387261Z"
    },
    "collapsed": false
   },
   "outputs": [
    {
     "data": {
      "text/plain": [
       "(array([  1.,   0.,   0.,   3.,   0.,   0.,   0.,   6.,   0.,   0.,  10.,\n",
       "          0.,   0.,   0.,  15.,   0.,   0.,   0.,  21.,   0.,   0.,  28.,\n",
       "          0.,   0.,   0.,  36.,   0.,   0.,  45.,   0.,   0.,   0.,  55.,\n",
       "          0.,   0.,   0.,  66.,   0.,   0.,  78.,   0.,   0.,   0.,  91.,\n",
       "          0.,   0., 102.,   0.,   0.,   0., 111.,   0.,   0.,   0., 118.,\n",
       "          0.,   0., 123.,   0.,   0.,   0., 126.,   0.,   0.,   0., 127.,\n",
       "          0.,   0., 126.,   0.,   0.,   0., 123.,   0.,   0., 118.,   0.,\n",
       "          0.,   0., 111.,   0.,   0.,   0., 102.,   0.,   0.,  91.,   0.,\n",
       "          0.,   0.,  78.,   0.,   0.,  66.,   0.,   0.,   0.,  55.,   0.,\n",
       "          0.,   0.,  45.,   0.,   0.,  36.,   0.,   0.,   0.,  28.,   0.,\n",
       "          0.,  21.,   0.,   0.,   0.,  15.,   0.,   0.,   0.,  10.,   0.,\n",
       "          0.,   6.,   0.,   0.,   0.,   3.,   0.,   0.,   1.]),\n",
       " array([ 0.        ,  0.27692308,  0.55384615,  0.83076923,  1.10769231,\n",
       "         1.38461538,  1.66153846,  1.93846154,  2.21538462,  2.49230769,\n",
       "         2.76923077,  3.04615385,  3.32307692,  3.6       ,  3.87692308,\n",
       "         4.15384615,  4.43076923,  4.70769231,  4.98461538,  5.26153846,\n",
       "         5.53846154,  5.81538462,  6.09230769,  6.36923077,  6.64615385,\n",
       "         6.92307692,  7.2       ,  7.47692308,  7.75384615,  8.03076923,\n",
       "         8.30769231,  8.58461538,  8.86153846,  9.13846154,  9.41538462,\n",
       "         9.69230769,  9.96923077, 10.24615385, 10.52307692, 10.8       ,\n",
       "        11.07692308, 11.35384615, 11.63076923, 11.90769231, 12.18461538,\n",
       "        12.46153846, 12.73846154, 13.01538462, 13.29230769, 13.56923077,\n",
       "        13.84615385, 14.12307692, 14.4       , 14.67692308, 14.95384615,\n",
       "        15.23076923, 15.50769231, 15.78461538, 16.06153846, 16.33846154,\n",
       "        16.61538462, 16.89230769, 17.16923077, 17.44615385, 17.72307692,\n",
       "        18.        , 18.27692308, 18.55384615, 18.83076923, 19.10769231,\n",
       "        19.38461538, 19.66153846, 19.93846154, 20.21538462, 20.49230769,\n",
       "        20.76923077, 21.04615385, 21.32307692, 21.6       , 21.87692308,\n",
       "        22.15384615, 22.43076923, 22.70769231, 22.98461538, 23.26153846,\n",
       "        23.53846154, 23.81538462, 24.09230769, 24.36923077, 24.64615385,\n",
       "        24.92307692, 25.2       , 25.47692308, 25.75384615, 26.03076923,\n",
       "        26.30769231, 26.58461538, 26.86153846, 27.13846154, 27.41538462,\n",
       "        27.69230769, 27.96923077, 28.24615385, 28.52307692, 28.8       ,\n",
       "        29.07692308, 29.35384615, 29.63076923, 29.90769231, 30.18461538,\n",
       "        30.46153846, 30.73846154, 31.01538462, 31.29230769, 31.56923077,\n",
       "        31.84615385, 32.12307692, 32.4       , 32.67692308, 32.95384615,\n",
       "        33.23076923, 33.50769231, 33.78461538, 34.06153846, 34.33846154,\n",
       "        34.61538462, 34.89230769, 35.16923077, 35.44615385, 35.72307692,\n",
       "        36.        ]),\n",
       " <BarContainer object of 130 artists>)"
      ]
     },
     "execution_count": 12,
     "metadata": {},
     "output_type": "execute_result"
    },
    {
     "data": {
      "image/png": "[encoded data removed]",
      "text/plain": [
       "<Figure size 640x480 with 1 Axes>"
      ]
     },
     "metadata": {},
     "output_type": "display_data"
    }
   ],
   "source": [
    "import matplotlib.pyplot as plt\n",
    "\n",
    "plt.hist(val_dict, bins=130)"
   ]
  },
  {
   "cell_type": "code",
   "execution_count": 19,
   "id": "cbba3ea9dd47173d",
   "metadata": {
    "collapsed": false
   },
   "outputs": [
    {
     "data": {
      "text/plain": [
       "0.38"
      ]
     },
     "execution_count": 19,
     "metadata": {},
     "output_type": "execute_result"
    }
   ],
   "source": [
    "matrix = np.array([\n",
    "    [1, 2, 3], \n",
    "    [0, -2, 1],\n",
    "    [0, 0, 1]\n",
    "])\n",
    "\n",
    "x1 = np.array([\n",
    "    [3], \n",
    "    [-2], \n",
    "    [1]\n",
    "])\n",
    "\n",
    "x2 = np.array([\n",
    "    [-3], \n",
    "    [2], \n",
    "    [-1]\n",
    "])\n",
    "\n",
    "x3 = np.array([\n",
    "    [1], \n",
    "    [-2], \n",
    "    [3]\n",
    "])\n",
    "\n",
    "x4 = np.array([\n",
    "    [2], \n",
    "    [5], \n",
    "    [0]\n",
    "])\n",
    "\n",
    "\n",
    "1-0.62"
   ]
  },
  {
   "cell_type": "code",
   "execution_count": 3,
   "id": "9442258e",
   "metadata": {},
   "outputs": [
    {
     "data": {
      "text/plain": [
       "0"
      ]
     },
     "execution_count": 3,
     "metadata": {},
     "output_type": "execute_result"
    }
   ],
   "source": [
    "p = 0.15\n",
    "q = 0.85\n",
    "\n",
    "val = np.math.comb(40, 5) * (p ** 5) * (q ** 35)\n",
    "\n",
    "# Find greatest integert funnction of val\n",
    "\n",
    "np.math.floor(val)"
   ]
  },
  {
   "cell_type": "code",
   "execution_count": 8,
   "id": "d3200653",
   "metadata": {},
   "outputs": [
    {
     "data": {
      "text/plain": [
       "[-1.44444444444444]"
      ]
     },
     "execution_count": 8,
     "metadata": {},
     "output_type": "execute_result"
    }
   ],
   "source": [
    "from scipy.stats import pearsonr\n",
    "import sympy as sp \n",
    "x = sp.symbols('x', real=True)\n",
    "k = sp.symbols('k', real=True, constant = True)\n",
    "\n",
    "sp.solve(sp.Eq(- (3*x + 4) / (20 + 12*x), 1/8), x)"
   ]
  },
  {
   "cell_type": "code",
   "execution_count": 9,
   "id": "fa10a019",
   "metadata": {},
   "outputs": [
    {
     "data": {
      "text/plain": [
       "PearsonRResult(statistic=-0.6738673703623107, pvalue=0.5292638149273424)"
      ]
     },
     "execution_count": 9,
     "metadata": {},
     "output_type": "execute_result"
    }
   ],
   "source": [
    "nitrogen = np.array([0.32, 0.6, 0.3])\n",
    "carbon = np.array([0.1, 0, 0.6])\n",
    "\n",
    "pearsonr(nitrogen, carbon)"
   ]
  }
 ],
 "metadata": {
  "kernelspec": {
   "display_name": "Python 3",
   "language": "python",
   "name": "python3"
  },
  "language_info": {
   "codemirror_mode": {
    "name": "ipython",
    "version": 3
   },
   "file_extension": ".py",
   "mimetype": "text/x-python",
   "name": "python",
   "nbconvert_exporter": "python",
   "pygments_lexer": "ipython3",
   "version": "3.11.5"
  }
 },
 "nbformat": 4,
 "nbformat_minor": 5
}
