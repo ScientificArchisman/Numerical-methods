{
 "cells": [
  {
   "cell_type": "code",
   "execution_count": 46,
   "id": "initial_id",
   "metadata": {
    "collapsed": true,
    "ExecuteTime": {
     "end_time": "2023-12-23T06:21:34.545876Z",
     "start_time": "2023-12-23T06:21:34.540613Z"
    }
   },
   "outputs": [],
   "source": [
    "import numpy as np\n",
    "import matplotlib.pyplot as plt\n",
    "from typing import List\n",
    "from collections import defaultdict"
   ]
  },
  {
   "cell_type": "code",
   "outputs": [
    {
     "data": {
      "text/plain": "[3, -1]"
     },
     "execution_count": 47,
     "metadata": {},
     "output_type": "execute_result"
    }
   ],
   "source": [
    "def nextGreaterElement(nums1: List[int], nums2: List[int]) -> List[int]:\n",
    "    stack, result = [], defaultdict()\n",
    "    for idx2 in range(len(nums2) - 1, -1, -1):\n",
    "        num = nums2[idx2]\n",
    "        if len(stack) == 0:\n",
    "            result[num] = -1\n",
    "        elif stack[-1] > num:\n",
    "            result[num] = stack[-1]\n",
    "        elif stack[-1] <= num:\n",
    "            while len(stack) > 0 and stack[-1] <= num:\n",
    "                stack.pop()\n",
    "            if len(stack) == 0:\n",
    "                result[num] = -1\n",
    "            else:\n",
    "                result[num] = stack[-1]\n",
    "        stack.append(nums2[idx2])\n",
    "    \n",
    "    sol = []\n",
    "    for val in nums1:\n",
    "        sol.append(result[val])\n",
    "    return  sol\n",
    "\n",
    "nums1 = [2, 4]\n",
    "nums2 = [1, 2, 3, 4]\n",
    "nextGreaterElement(nums1, nums2)"
   ],
   "metadata": {
    "collapsed": false,
    "ExecuteTime": {
     "end_time": "2023-12-23T06:21:52.523755Z",
     "start_time": "2023-12-23T06:21:52.520202Z"
    }
   },
   "id": "215314a786aed1c1",
   "execution_count": 47
  },
  {
   "cell_type": "code",
   "outputs": [],
   "source": [
    "from collections import defaultdict\n",
    "hashmap = defaultdict()\n",
    "hashmap[1] = 0"
   ],
   "metadata": {
    "collapsed": false,
    "ExecuteTime": {
     "end_time": "2023-12-23T06:21:14.869709Z",
     "start_time": "2023-12-23T06:21:14.866490Z"
    }
   },
   "id": "754e3d15aacf5593",
   "execution_count": 44
  },
  {
   "cell_type": "code",
   "outputs": [
    {
     "data": {
      "text/plain": "defaultdict(None, {1: 0})"
     },
     "execution_count": 45,
     "metadata": {},
     "output_type": "execute_result"
    }
   ],
   "source": [
    "hashmap"
   ],
   "metadata": {
    "collapsed": false,
    "ExecuteTime": {
     "end_time": "2023-12-23T06:21:19.270322Z",
     "start_time": "2023-12-23T06:21:19.244306Z"
    }
   },
   "id": "cf81425ea58bfa18",
   "execution_count": 45
  },
  {
   "cell_type": "code",
   "outputs": [],
   "source": [],
   "metadata": {
    "collapsed": false
   },
   "id": "c8242350c7af7dcb"
  }
 ],
 "metadata": {
  "kernelspec": {
   "display_name": "Python 3",
   "language": "python",
   "name": "python3"
  },
  "language_info": {
   "codemirror_mode": {
    "name": "ipython",
    "version": 2
   },
   "file_extension": ".py",
   "mimetype": "text/x-python",
   "name": "python",
   "nbconvert_exporter": "python",
   "pygments_lexer": "ipython2",
   "version": "2.7.6"
  }
 },
 "nbformat": 4,
 "nbformat_minor": 5
}
