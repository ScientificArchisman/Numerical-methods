{
 "cells": [
  {
   "cell_type": "code",
   "execution_count": 67,
   "id": "initial_id",
   "metadata": {
    "collapsed": true,
    "ExecuteTime": {
     "end_time": "2023-12-26T13:22:09.710330Z",
     "start_time": "2023-12-26T13:22:09.704726Z"
    }
   },
   "outputs": [],
   "source": [
    "import numpy as np\n",
    "from typing import List\n",
    "from collections import defaultdict\n",
    "from queue import Queue\n",
    "from copy import  deepcopy"
   ]
  },
  {
   "cell_type": "code",
   "outputs": [
    {
     "data": {
      "text/plain": "[3, -1]"
     },
     "execution_count": 2,
     "metadata": {},
     "output_type": "execute_result"
    }
   ],
   "source": [
    "def nextGreaterElement(nums1: List[int], nums2: List[int]) -> List[int]:\n",
    "    stack, result = [], defaultdict()\n",
    "    for idx2 in range(len(nums2) - 1, -1, -1):\n",
    "        num = nums2[idx2]\n",
    "        if len(stack) == 0:\n",
    "            result[num] = -1\n",
    "        elif stack[-1] > num:\n",
    "            result[num] = stack[-1]\n",
    "        elif stack[-1] <= num:\n",
    "            while len(stack) > 0 and stack[-1] <= num:\n",
    "                stack.pop()\n",
    "            if len(stack) == 0:\n",
    "                result[num] = -1\n",
    "            else:\n",
    "                result[num] = stack[-1]\n",
    "        stack.append(nums2[idx2])\n",
    "    \n",
    "    sol = []\n",
    "    for val in nums1:\n",
    "        sol.append(result[val])\n",
    "    return  sol\n",
    "\n",
    "nums1 = [2, 4]\n",
    "nums2 = [1, 2, 3, 4]\n",
    "nextGreaterElement(nums1, nums2)"
   ],
   "metadata": {
    "collapsed": false,
    "ExecuteTime": {
     "end_time": "2023-12-23T13:39:50.901585Z",
     "start_time": "2023-12-23T13:39:50.884075Z"
    }
   },
   "id": "215314a786aed1c1",
   "execution_count": 2
  },
  {
   "cell_type": "code",
   "outputs": [
    {
     "data": {
      "text/plain": "[-1, 5, 4, 3, 2]"
     },
     "execution_count": 57,
     "metadata": {},
     "output_type": "execute_result"
    }
   ],
   "source": [
    "def nextGreaterElements(nums: List[int]) -> List[int]:\n",
    "    nums = nums[::-1]\n",
    "    length = len(nums)    \n",
    "    stack, result = [], [0] * length\n",
    "    visited = dict([(val, (False, idx)) for idx, val in enumerate(nums)])\n",
    "    \n",
    "    for idx in range(length-1, -1, -1):\n",
    "        num = nums[idx]\n",
    "        if len(stack) == 0:\n",
    "            result[idx] = -1\n",
    "        elif stack[-1] > num:\n",
    "            if visited[num][0]: # Has been visited\n",
    "                result[visited[num][1]] = stack[-1] # Update the point where it was visited as well\n",
    "            result[idx] = stack[-1] # Update current point\n",
    "        elif stack[-1] <= num:\n",
    "            # pop elements as long as we find the greater element\n",
    "            while len(stack) > 0 and stack[-1] <= num:\n",
    "                stack.pop()\n",
    "            if len(stack) == 0:\n",
    "                result[idx] = -1\n",
    "            else: # Has been visited\n",
    "                if visited[num][0]:\n",
    "                    result[visited[num][1]] = stack[-1]\n",
    "                result[idx] = stack[-1]\n",
    "        # Mark the number as visited in the visited array\n",
    "        visited[num] = (True, idx)\n",
    "        stack.append(num)\n",
    "    \n",
    "    return  result[::-1]\n",
    "\n",
    "nums = [5, 4, 3, 2, 1]\n",
    "nextGreaterElements(nums=nums)"
   ],
   "metadata": {
    "collapsed": false,
    "ExecuteTime": {
     "end_time": "2023-12-23T14:31:33.069331Z",
     "start_time": "2023-12-23T14:31:33.066397Z"
    }
   },
   "id": "c8242350c7af7dcb",
   "execution_count": 57
  },
  {
   "cell_type": "code",
   "outputs": [
    {
     "data": {
      "text/plain": "1"
     },
     "execution_count": 68,
     "metadata": {},
     "output_type": "execute_result"
    }
   ],
   "source": [
    "def maxOperations(nums: List[int], k: int) -> int:\n",
    "    nums.sort()\n",
    "    operations = 0\n",
    "    pointer1, pointer2 = 0, len(nums) - 1\n",
    "    \n",
    "    while pointer1 < pointer2:\n",
    "        summ = nums[pointer1] + nums[pointer2]\n",
    "        if summ == k:\n",
    "            operations += 1\n",
    "            pointer1 += 1\n",
    "            pointer2 -= 1\n",
    "        elif summ < k:\n",
    "            pointer1 += 1\n",
    "        else:\n",
    "            pointer2 -= 1\n",
    "    return operations\n",
    "            \n",
    "nums = [3, 1, 3, 4, 3]\n",
    "k = 6\n",
    "maxOperations(nums, k)"
   ],
   "metadata": {
    "collapsed": false,
    "ExecuteTime": {
     "end_time": "2023-12-23T14:53:26.274117Z",
     "start_time": "2023-12-23T14:53:26.260093Z"
    }
   },
   "id": "a8c542aec9e99c09",
   "execution_count": 68
  },
  {
   "cell_type": "code",
   "outputs": [
    {
     "data": {
      "text/plain": "True"
     },
     "execution_count": 92,
     "metadata": {},
     "output_type": "execute_result"
    }
   ],
   "source": [
    "def canVisitAllRooms(rooms: List[List[int]]) -> bool:\n",
    "    rooms_seen = [False] * (len(rooms))\n",
    "    def dfs(room):\n",
    "        rooms_seen[room] = True\n",
    "        for key in rooms[room]:\n",
    "            if not rooms_seen[key]:\n",
    "                dfs(key)\n",
    "    dfs(0)\n",
    "    if all(rooms_seen):\n",
    "        return True\n",
    "    return False\n",
    "\n",
    "rooms = [[1],[2],[3],[]]\n",
    "canVisitAllRooms(rooms)"
   ],
   "metadata": {
    "collapsed": false,
    "ExecuteTime": {
     "end_time": "2023-12-23T15:29:27.788497Z",
     "start_time": "2023-12-23T15:29:27.784499Z"
    }
   },
   "id": "8c91b80d4ccc2af8",
   "execution_count": 92
  },
  {
   "cell_type": "code",
   "outputs": [],
   "source": [
    "def findCircleNum(isConnected: List[List[int]]) -> int:\n",
    "    def make_adjacency_hashmap(adjacency_matrix:List[List[int]]) -> dict:\n",
    "        \"\"\"Create an adjacency list/ adjacency hashmap from an adjacency matrix\n",
    "        Args:\n",
    "            adjacency_matrix(List[List[int]]): the adjacency matrix\n",
    "        Returns:\n",
    "            dict: the adjacency hashmap\"\"\"\n",
    "        n = len(adjacency_matrix)\n",
    "        # Create a hashmap for all the elements in the graph\n",
    "        adj_hashmap = dict([(val+1, []) for val in range(n)])\n",
    "        for i in range(n): # rows\n",
    "            for j in range(n): # columns\n",
    "                if adjacency_matrix[i][j] == 1:\n",
    "                    adj_hashmap[i+1] += [j+1] # Append to dictionary \n",
    "        return adj_hashmap\n",
    "    \n",
    "    # Convert the given adjacency matrix to adjacency hashmap\n",
    "    hashmap = make_adjacency_hashmap(isConnected)\n",
    "    visited = dict([(val+1, False) for val in range(len(hashmap))])\n",
    "    \n",
    "    def dfs(graph:dict, node:int, visited:dict) -> None:\n",
    "        \"\"\"Traverse a graph using the Depth First Search\n",
    "        Args:\n",
    "            graph : the adjacency list of graph vertices\n",
    "            node: the starting node for traversal\n",
    "            visited: an visited hashmap for seeing the nodes already visited\n",
    "        Returns:\n",
    "            None\"\"\"\n",
    "        visited[node] = True\n",
    "        for neighbour in graph[node]:\n",
    "            if not visited[neighbour]:\n",
    "                dfs(graph = graph, node = neighbour, visited = visited)\n",
    "                \n",
    "    counter = 0    # counter to keep track of the number of provinces   \n",
    "    for vertex in hashmap.keys():\n",
    "        if not visited[vertex]:\n",
    "            # if the node has not been visited we can apply dfs there as it is inside\n",
    "            # a province, else we move on to th next province\n",
    "            counter += 1\n",
    "            dfs(graph=hashmap, node=vertex, visited=visited)\n",
    "            \n",
    "    return counter"
   ],
   "metadata": {
    "collapsed": false,
    "ExecuteTime": {
     "end_time": "2023-12-25T19:55:49.387986Z",
     "start_time": "2023-12-25T19:55:49.381901Z"
    }
   },
   "id": "f65147856f6047f5",
   "execution_count": 54
  },
  {
   "cell_type": "code",
   "outputs": [
    {
     "data": {
      "text/plain": "3"
     },
     "execution_count": 55,
     "metadata": {},
     "output_type": "execute_result"
    }
   ],
   "source": [
    "isConnected = [[1,0,0],[0,1,0],[0,0,1]]\n",
    "findCircleNum(isConnected)"
   ],
   "metadata": {
    "collapsed": false,
    "ExecuteTime": {
     "end_time": "2023-12-25T19:56:08.225072Z",
     "start_time": "2023-12-25T19:56:08.218807Z"
    }
   },
   "id": "87c4194a65927c6d",
   "execution_count": 55
  },
  {
   "cell_type": "code",
   "outputs": [
    {
     "ename": "KeyboardInterrupt",
     "evalue": "",
     "output_type": "error",
     "traceback": [
      "\u001B[0;31m---------------------------------------------------------------------------\u001B[0m",
      "\u001B[0;31mKeyboardInterrupt\u001B[0m                         Traceback (most recent call last)",
      "Cell \u001B[0;32mIn[84], line 35\u001B[0m\n\u001B[1;32m     31\u001B[0m     \u001B[38;5;28;01mreturn\u001B[39;00m time_stmp\n\u001B[1;32m     34\u001B[0m grid \u001B[38;5;241m=\u001B[39m [[\u001B[38;5;241m2\u001B[39m,\u001B[38;5;241m1\u001B[39m,\u001B[38;5;241m1\u001B[39m],[\u001B[38;5;241m0\u001B[39m,\u001B[38;5;241m1\u001B[39m,\u001B[38;5;241m1\u001B[39m],[\u001B[38;5;241m1\u001B[39m,\u001B[38;5;241m0\u001B[39m,\u001B[38;5;241m1\u001B[39m]]\n\u001B[0;32m---> 35\u001B[0m \u001B[43mbfs\u001B[49m\u001B[43m(\u001B[49m\u001B[43mgrid\u001B[49m\u001B[43m)\u001B[49m\n",
      "Cell \u001B[0;32mIn[84], line 24\u001B[0m, in \u001B[0;36mbfs\u001B[0;34m(grid)\u001B[0m\n\u001B[1;32m     22\u001B[0m nrow \u001B[38;5;241m=\u001B[39m row \u001B[38;5;241m+\u001B[39m d_row[neighbour]\n\u001B[1;32m     23\u001B[0m ncol \u001B[38;5;241m=\u001B[39m col \u001B[38;5;241m+\u001B[39m d_col[neighbour]\n\u001B[0;32m---> 24\u001B[0m \u001B[38;5;28;01mif\u001B[39;00m \u001B[38;5;241m0\u001B[39m \u001B[38;5;241m<\u001B[39m\u001B[38;5;241m=\u001B[39m nrow \u001B[38;5;241m<\u001B[39m n \u001B[38;5;129;01mand\u001B[39;00m \u001B[38;5;241m0\u001B[39m \u001B[38;5;241m<\u001B[39m\u001B[38;5;241m=\u001B[39m ncol \u001B[38;5;241m<\u001B[39m m \u001B[38;5;129;01mand\u001B[39;00m visited[nrow][ncol] \u001B[38;5;241m!=\u001B[39m \u001B[38;5;241m2\u001B[39m \u001B[38;5;129;01mand\u001B[39;00m grid[nrow][ncol] \u001B[38;5;241m==\u001B[39m \u001B[38;5;241m1\u001B[39m:\n\u001B[1;32m     25\u001B[0m     q\u001B[38;5;241m.\u001B[39mput(((nrow, ncol), time \u001B[38;5;241m+\u001B[39m \u001B[38;5;241m1\u001B[39m))\n\u001B[1;32m     26\u001B[0m     count \u001B[38;5;241m+\u001B[39m\u001B[38;5;241m=\u001B[39m \u001B[38;5;241m1\u001B[39m\n",
      "File \u001B[0;32m_pydevd_bundle/pydevd_cython_darwin_311_64.pyx:1187\u001B[0m, in \u001B[0;36m_pydevd_bundle.pydevd_cython_darwin_311_64.SafeCallWrapper.__call__\u001B[0;34m()\u001B[0m\n",
      "File \u001B[0;32m_pydevd_bundle/pydevd_cython_darwin_311_64.pyx:627\u001B[0m, in \u001B[0;36m_pydevd_bundle.pydevd_cython_darwin_311_64.PyDBFrame.trace_dispatch\u001B[0;34m()\u001B[0m\n",
      "File \u001B[0;32m_pydevd_bundle/pydevd_cython_darwin_311_64.pyx:1103\u001B[0m, in \u001B[0;36m_pydevd_bundle.pydevd_cython_darwin_311_64.PyDBFrame.trace_dispatch\u001B[0;34m()\u001B[0m\n",
      "File \u001B[0;32m_pydevd_bundle/pydevd_cython_darwin_311_64.pyx:1061\u001B[0m, in \u001B[0;36m_pydevd_bundle.pydevd_cython_darwin_311_64.PyDBFrame.trace_dispatch\u001B[0;34m()\u001B[0m\n",
      "File \u001B[0;32m/Applications/DataSpell.app/Contents/plugins/python-ce/helpers-pro/jupyter_debug/pydev_jupyter_plugin.py:169\u001B[0m, in \u001B[0;36mstop\u001B[0;34m(plugin, pydb, frame, event, args, stop_info, arg, step_cmd)\u001B[0m\n\u001B[1;32m    167\u001B[0m     frame \u001B[38;5;241m=\u001B[39m suspend_jupyter(main_debugger, thread, frame, step_cmd)\n\u001B[1;32m    168\u001B[0m     \u001B[38;5;28;01mif\u001B[39;00m frame:\n\u001B[0;32m--> 169\u001B[0m         \u001B[43mmain_debugger\u001B[49m\u001B[38;5;241;43m.\u001B[39;49m\u001B[43mdo_wait_suspend\u001B[49m\u001B[43m(\u001B[49m\u001B[43mthread\u001B[49m\u001B[43m,\u001B[49m\u001B[43m \u001B[49m\u001B[43mframe\u001B[49m\u001B[43m,\u001B[49m\u001B[43m \u001B[49m\u001B[43mevent\u001B[49m\u001B[43m,\u001B[49m\u001B[43m \u001B[49m\u001B[43marg\u001B[49m\u001B[43m)\u001B[49m\n\u001B[1;32m    170\u001B[0m         \u001B[38;5;28;01mreturn\u001B[39;00m \u001B[38;5;28;01mTrue\u001B[39;00m\n\u001B[1;32m    171\u001B[0m \u001B[38;5;28;01mreturn\u001B[39;00m \u001B[38;5;28;01mFalse\u001B[39;00m\n",
      "File \u001B[0;32m/Applications/DataSpell.app/Contents/plugins/python-ce/helpers/pydev/pydevd.py:1184\u001B[0m, in \u001B[0;36mPyDB.do_wait_suspend\u001B[0;34m(self, thread, frame, event, arg, send_suspend_message, is_unhandled_exception)\u001B[0m\n\u001B[1;32m   1181\u001B[0m         from_this_thread\u001B[38;5;241m.\u001B[39mappend(frame_id)\n\u001B[1;32m   1183\u001B[0m \u001B[38;5;28;01mwith\u001B[39;00m \u001B[38;5;28mself\u001B[39m\u001B[38;5;241m.\u001B[39m_threads_suspended_single_notification\u001B[38;5;241m.\u001B[39mnotify_thread_suspended(thread_id, stop_reason):\n\u001B[0;32m-> 1184\u001B[0m     \u001B[38;5;28;43mself\u001B[39;49m\u001B[38;5;241;43m.\u001B[39;49m\u001B[43m_do_wait_suspend\u001B[49m\u001B[43m(\u001B[49m\u001B[43mthread\u001B[49m\u001B[43m,\u001B[49m\u001B[43m \u001B[49m\u001B[43mframe\u001B[49m\u001B[43m,\u001B[49m\u001B[43m \u001B[49m\u001B[43mevent\u001B[49m\u001B[43m,\u001B[49m\u001B[43m \u001B[49m\u001B[43marg\u001B[49m\u001B[43m,\u001B[49m\u001B[43m \u001B[49m\u001B[43msuspend_type\u001B[49m\u001B[43m,\u001B[49m\u001B[43m \u001B[49m\u001B[43mfrom_this_thread\u001B[49m\u001B[43m)\u001B[49m\n",
      "File \u001B[0;32m/Applications/DataSpell.app/Contents/plugins/python-ce/helpers/pydev/pydevd.py:1199\u001B[0m, in \u001B[0;36mPyDB._do_wait_suspend\u001B[0;34m(self, thread, frame, event, arg, suspend_type, from_this_thread)\u001B[0m\n\u001B[1;32m   1196\u001B[0m             \u001B[38;5;28mself\u001B[39m\u001B[38;5;241m.\u001B[39m_call_mpl_hook()\n\u001B[1;32m   1198\u001B[0m         \u001B[38;5;28mself\u001B[39m\u001B[38;5;241m.\u001B[39mprocess_internal_commands()\n\u001B[0;32m-> 1199\u001B[0m         time\u001B[38;5;241m.\u001B[39msleep(\u001B[38;5;241m0.01\u001B[39m)\n\u001B[1;32m   1201\u001B[0m \u001B[38;5;28mself\u001B[39m\u001B[38;5;241m.\u001B[39mcancel_async_evaluation(get_current_thread_id(thread), \u001B[38;5;28mstr\u001B[39m(\u001B[38;5;28mid\u001B[39m(frame)))\n\u001B[1;32m   1203\u001B[0m \u001B[38;5;66;03m# process any stepping instructions\u001B[39;00m\n",
      "\u001B[0;31mKeyboardInterrupt\u001B[0m: "
     ]
    }
   ],
   "source": [
    "def bfs(grid: dict) -> int:\n",
    "    n, m = len(grid), len(grid[0]) # Get the dimensions of the grid\n",
    "    q = Queue()\n",
    "    fresh_count = 0\n",
    "    visited = deepcopy(grid)\n",
    "    for i in range(n):\n",
    "        for j in range(m):\n",
    "            if grid[i][j] == 2:\n",
    "                q.put(((i, j), 0)) # the element and the time at which they are rotten\n",
    "            elif grid[i][j] == 1:\n",
    "                fresh_count += 1\n",
    "\n",
    "    time_stmp = 0\n",
    "    d_row = [-1, 0, 1, 0]\n",
    "    d_col = [ 0, 1, 0, -1]\n",
    "    count = 0\n",
    "    while not q.empty():\n",
    "        stamp = q.get()\n",
    "        (row, col), time = stamp[0], stamp[1]\n",
    "        time_stmp = max(time_stmp, time)\n",
    "        for neighbour in range(4):\n",
    "            nrow = row + d_row[neighbour]\n",
    "            ncol = col + d_col[neighbour]\n",
    "            if 0 <= nrow < n and 0 <= ncol < m and visited[nrow][ncol] != 2 and grid[nrow][ncol] == 1:\n",
    "                q.put(((nrow, ncol), time + 1))\n",
    "                count += 1\n",
    "                visited[nrow][ncol] = 2\n",
    "    return fresh_count, count\n",
    "    if fresh_count != count:\n",
    "        return  -1\n",
    "    return time_stmp\n",
    "\n",
    "\n",
    "grid = [[2,1,1],[0,1,1],[1,0,1]]\n",
    "bfs(grid)"
   ],
   "metadata": {
    "collapsed": false,
    "ExecuteTime": {
     "end_time": "2023-12-26T13:43:56.118980Z",
     "start_time": "2023-12-26T13:41:06.357031Z"
    }
   },
   "id": "f11ae25f05a96579",
   "execution_count": 84
  },
  {
   "cell_type": "code",
   "outputs": [],
   "source": [],
   "metadata": {
    "collapsed": false,
    "ExecuteTime": {
     "end_time": "2023-12-26T13:40:52.833510Z",
     "start_time": "2023-12-26T13:40:52.829508Z"
    }
   },
   "id": "585b58c39e743920",
   "execution_count": 83
  }
 ],
 "metadata": {
  "kernelspec": {
   "display_name": "Python 3",
   "language": "python",
   "name": "python3"
  },
  "language_info": {
   "codemirror_mode": {
    "name": "ipython",
    "version": 2
   },
   "file_extension": ".py",
   "mimetype": "text/x-python",
   "name": "python",
   "nbconvert_exporter": "python",
   "pygments_lexer": "ipython2",
   "version": "2.7.6"
  }
 },
 "nbformat": 4,
 "nbformat_minor": 5
}
