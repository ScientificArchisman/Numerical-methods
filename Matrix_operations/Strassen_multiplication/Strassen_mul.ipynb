{
 "cells": [
  {
   "cell_type": "code",
   "execution_count": 1,
   "metadata": {},
   "outputs": [],
   "source": [
    "from typing import List, Union\n",
    "from copy import deepcopy as deep\n",
    "import sys\n",
    "from pathlib import Path\n",
    "\n",
    "current_dir = Path().resolve()\n",
    "parent = current_dir.parent\n",
    "subdir_add = parent / \"matrix_addition\"\n",
    "subdir_sub = parent / \"matrix_subtraction\"\n",
    "\n",
    "# Add subfolder to sys.path\n",
    "if str(subdir_add) not in sys.path:\n",
    "    sys.path.append(str(subdir_add))\n",
    "\n",
    "if str(subdir_sub) not in sys.path:\n",
    "    sys.path.append(str(subdir_sub))\n",
    "\n",
    "# Import modules from matrix subfolders\n",
    "from matrix_addition import matrix_add\n",
    "from matrix_subtraction import matrix_subtract"
   ]
  },
  {
   "cell_type": "code",
   "execution_count": 2,
   "metadata": {},
   "outputs": [],
   "source": [
    "def Strassen_multiply(matrix1: List[List[Union[int, float]]], matrix2: List[List[Union[int, float]]]) -> List[List[Union[int, float]]]:\n",
    "    \"\"\" Multiply matrices using the divide and conquer method. \n",
    "    Works for matrices of size 2^n x 2^n.\n",
    "    Args:\n",
    "        matrix1 (List[List[Union[int, float]]]): The first matrix.\n",
    "        matrix2 (List[List[Union[int, float]]]): The second matrix.\n",
    "    Returns:\n",
    "        List[List[Union[int, float]]]: The product of the two matrices.\n",
    "    Raises:\n",
    "        ValueError: If the dimensions of the two matrices are not equal.\n",
    "        ValueError: If the first matrix is not a rectangular matrix.\n",
    "        ValueError: If the second matrix is not a rectangular matrix.\"\"\"\n",
    "    m1_rows, m1_cols = len(matrix1), len(matrix1[0])\n",
    "    m2_rows, m2_cols = len(matrix2), len(matrix2[0])\n",
    "\n",
    "    # Check if the matrices have shapes which are a power of 2.\n",
    "    def is_power_of_2(n):\n",
    "        return (n != 0) and (n & (n - 1) == 0)\n",
    "    \n",
    "    if not all(is_power_of_2(x) for x in [m1_rows, m1_cols, m2_rows, m2_cols]):\n",
    "        raise ValueError(\"The dimensions of the matrices must be a power of 2.\")\n",
    "    if m1_cols != m2_rows or m1_rows != m1_cols or m2_rows != m2_cols:\n",
    "        raise ValueError(\"Matrices must be square and dimensions must match.\")\n",
    "    \n",
    "    # Base case\n",
    "    if m1_rows == 1:\n",
    "        return [[matrix1[0][0] * matrix2[0][0]]]\n",
    "    \n",
    "    # Split matrices into quarters\n",
    "    def split(X):\n",
    "        \"\"\" Split matrix into quarters.\"\"\"\n",
    "        return [\n",
    "            [X[i][:len(X)//2] for i in range(len(X)//2)],\n",
    "            [X[i][len(X)//2:] for i in range(len(X)//2)],\n",
    "            [X[i][:len(X)//2] for i in range(len(X)//2, len(X))],\n",
    "            [X[i][len(X)//2:] for i in range(len(X)//2, len(X))]\n",
    "        ]\n",
    "    # Split matrices into quarters\n",
    "    a11, a12, a21, a22 = split(matrix1)\n",
    "    b11, b12, b21, b22 = split(matrix2)\n",
    "\n",
    "    P = Strassen_multiply(matrix_add(a11, a22), matrix_add(b11, b22))\n",
    "    Q = Strassen_multiply(matrix_add(a21, a22), b11)\n",
    "    R = Strassen_multiply(a11, matrix_subtract(b12, b22))\n",
    "    S = Strassen_multiply(a22, matrix_subtract(b21, b11))\n",
    "    T = Strassen_multiply(matrix_add(a11, a12), b22)\n",
    "    U = Strassen_multiply(matrix_subtract(a21, a11), matrix_add(b11, b12))\n",
    "    V = Strassen_multiply(matrix_subtract(a12, a22), matrix_add(b21, b22))\n",
    "\n",
    "    # Combine submatrices into 4 quadrants of the result matrix\n",
    "    C11 = matrix_add(matrix_subtract(matrix_add(P, S), T), V)\n",
    "    C12 = matrix_add(R, T)\n",
    "    C21 = matrix_add(Q, S)\n",
    "    c22 = matrix_add(matrix_subtract(matrix_add(P, R), Q), U)\n",
    "\n",
    "    # Combine submatrices into one result matrix\n",
    "    top = [C11[i] + C12[i] for i in range(len(C11))]\n",
    "    bottom = [C21[i] + c22[i] for i in range(len(C21))]\n",
    "    return top + bottom"
   ]
  },
  {
   "cell_type": "code",
   "execution_count": 3,
   "metadata": {},
   "outputs": [
    {
     "name": "stdout",
     "output_type": "stream",
     "text": [
      "[[34, 44, 54, 64], [82, 108, 134, 160], [34, 44, 54, 64], [82, 108, 134, 160]]\n"
     ]
    }
   ],
   "source": [
    "matrix1 = [[1, 2, 3, 4], [5, 6, 7, 8], [1, 2, 3, 4], [5, 6, 7, 8]]\n",
    "matrix2 = [[1, 2, 3, 4], [5, 6, 7, 8], [1, 2, 3, 4], [5, 6, 7, 8]]\n",
    "\n",
    "print(Strassen_multiply(matrix1, matrix2))"
   ]
  }
 ],
 "metadata": {
  "kernelspec": {
   "display_name": "Python 3",
   "language": "python",
   "name": "python3"
  },
  "language_info": {
   "codemirror_mode": {
    "name": "ipython",
    "version": 3
   },
   "file_extension": ".py",
   "mimetype": "text/x-python",
   "name": "python",
   "nbconvert_exporter": "python",
   "pygments_lexer": "ipython3",
   "version": "3.11.5"
  }
 },
 "nbformat": 4,
 "nbformat_minor": 2
}
