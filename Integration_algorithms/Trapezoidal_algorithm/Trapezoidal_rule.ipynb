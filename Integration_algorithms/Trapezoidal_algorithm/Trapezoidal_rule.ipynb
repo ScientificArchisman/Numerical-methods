{
 "cells": [
  {
   "cell_type": "code",
   "execution_count": 9,
   "id": "initial_id",
   "metadata": {
    "collapsed": true,
    "ExecuteTime": {
     "end_time": "2023-12-28T18:47:46.138627Z",
     "start_time": "2023-12-28T18:47:46.131776Z"
    }
   },
   "outputs": [],
   "source": [
    "import numpy as np\n",
    "from typing import Union, Callable"
   ]
  },
  {
   "cell_type": "markdown",
   "source": [],
   "metadata": {
    "collapsed": false
   },
   "id": "a6f857e080bc04db"
  },
  {
   "cell_type": "code",
   "outputs": [],
   "source": [
    "def trapezoidal_integration(f: Callable[[float], float], lower_lim: float, upper_lim: float, divisions: int) -> float:\n",
    "    \"\"\"\n",
    "    Perform trapezoidal integration on a function f\n",
    "    Args:\n",
    "        f (Callable[[float], float]): Function to be integrated, taking a single float and returning a float.\n",
    "        lower_lim (float): Lower limit of integration.\n",
    "        upper_lim (float): Upper limit of integration.\n",
    "        divisions (int): Number of divisions to use in integration.\n",
    "    Returns:\n",
    "        float: Integral of f from lower_lim to upper_lim.\n",
    "    Raises:\n",
    "        ValueError: If divisions is not a positive integer or if upper_lim is not greater than lower_lim.\n",
    "    \"\"\"\n",
    "    if divisions <= 0:\n",
    "        raise ValueError(\"Number of divisions must be a positive integer.\")\n",
    "    if upper_lim <= lower_lim:\n",
    "        raise ValueError(\"Upper limit must be greater than lower limit.\")\n",
    "\n",
    "    h = (upper_lim - lower_lim) / divisions\n",
    "    x_points = np.linspace(lower_lim + h, upper_lim - h, divisions - 1)\n",
    "    integral = (f(lower_lim) + f(upper_lim)) / 2 + np.sum(f(x_points))\n",
    "\n",
    "    return integral * h"
   ],
   "metadata": {
    "collapsed": false,
    "ExecuteTime": {
     "end_time": "2023-12-28T18:48:10.121754Z",
     "start_time": "2023-12-28T18:48:10.115290Z"
    }
   },
   "id": "27674cd52869cab",
   "execution_count": 10
  }
 ],
 "metadata": {
  "kernelspec": {
   "display_name": "Python 3",
   "language": "python",
   "name": "python3"
  },
  "language_info": {
   "codemirror_mode": {
    "name": "ipython",
    "version": 2
   },
   "file_extension": ".py",
   "mimetype": "text/x-python",
   "name": "python",
   "nbconvert_exporter": "python",
   "pygments_lexer": "ipython2",
   "version": "2.7.6"
  }
 },
 "nbformat": 4,
 "nbformat_minor": 5
}
