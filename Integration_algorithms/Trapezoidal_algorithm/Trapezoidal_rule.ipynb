{
 "cells": [
  {
   "cell_type": "markdown",
   "source": [
    "<h1 align=\"center\" style = \"color:green\">Trapezoidal Rule</h1>\n",
    "\n",
    "---"
   ],
   "metadata": {
    "collapsed": false
   },
   "id": "ae247ed7bdab0d21"
  },
  {
   "cell_type": "code",
   "execution_count": 11,
   "id": "initial_id",
   "metadata": {
    "collapsed": true,
    "ExecuteTime": {
     "end_time": "2023-12-28T18:58:18.975544Z",
     "start_time": "2023-12-28T18:58:18.972326Z"
    }
   },
   "outputs": [],
   "source": [
    "import numpy as np\n",
    "from typing import Union, Callable"
   ]
  },
  {
   "cell_type": "markdown",
   "source": [
    "The Trapezoidal Rule is a numerical method used to approximate the definite integral of a function. It's particularly useful when an analytical integration is difficult or impossible. The basic idea behind the rule is to approximate the region under the graph of the function as a series of trapezoids, calculate the area of each trapezoid, and sum these areas to get the total integral.\n",
    "\n",
    "### Theory\n",
    "---\n",
    "\n",
    "1. **Partitioning the Interval**: The interval \\([a, b]\\) over which we want to integrate the function \\(f(x)\\) is divided into \\(n\\) subintervals, each of equal width. The width of each subinterval, denoted as \\(h\\), is given by:\n",
    "   $$\n",
    "   h = \\frac{b - a}{n}\n",
    "   $$\n",
    "   where \\( a \\) and \\( b \\) are the lower and upper limits of the integral, and \\( n \\) is the number of divisions or trapezoids.\n",
    "\n",
    "2. **Endpoints**: The x-coordinates of the endpoints of these intervals are \\( x_0, x_1, x_2, \\ldots, x_n \\) where \\( x_0 = a \\) and \\( x_n = b \\).\n",
    "\n",
    "3. **Area of a Trapezoid**: The area of a trapezoid with parallel sides of lengths \\( a \\) and \\( b \\) and height \\( h \\) is given by:\n",
    "   $$\n",
    "   \\text{Area} = \\frac{1}{2} \\times (a + b) \\times h\n",
    "   $$\n",
    "   In the context of the trapezoidal rule, \\( a \\) and \\( b \\) are the values of the function at the endpoints of each sub-interval, i.e., \\( f(x_i) \\) and \\( f(x_{i+1}) \\).\n",
    "\n",
    "4. **Trapezoidal Rule Formula**: The integral of \\( f(x) \\) from \\( a \\) to \\( b \\) is approximately the sum of the areas of these trapezoids:\n",
    "   $$\n",
    "   \\int_{a}^{b} f(x) \\, dx \\approx \\frac{h}{2} [f(x_0) + 2f(x_1) + 2f(x_2) + \\ldots + 2f(x_{n-1}) + f(x_n)]\n",
    "   $$\n",
    "   This can be compactly written as:\n",
    "   $$\n",
    "   \\int_{a}^{b} f(x) \\, dx \\approx \\frac{h}{2} [f(x_0) + 2 \\sum_{i=1}^{n-1} f(x_i) + f(x_n)]\n",
    "   $$\n",
    "\n",
    "### Pseudo Algorithm\n",
    "---\n",
    "\n",
    "1. **Input**: Function $f$, lower limit $a$, upper limit $b$, number of divisions $n$.\n",
    "\n",
    "2. **Calculate Step Size**:\n",
    "   - Compute $h = \\frac{b - a}{n}$.\n",
    "\n",
    "3. **Initialize Integral**:\n",
    "   - Set $\\text{integral} = \\frac{f(a) + f(b)}{2}$.\n",
    "\n",
    "4. **Summation Loop**:\n",
    "   - For $i = 1$ to $n-1$:\n",
    "     - Add $f(a + i \\cdot h)$ to $\\text{integral}$.\n",
    "\n",
    "5. **Final Calculation**:\n",
    "   - Multiply $\\text{integral}$ by $h$.\n",
    "\n",
    "6. **Output**: Return $\\text{integral}$ as the approximate integral."
   ],
   "metadata": {
    "collapsed": false
   },
   "id": "a6f857e080bc04db"
  },
  {
   "cell_type": "markdown",
   "source": [
    "### Implementation\n",
    "---"
   ],
   "metadata": {
    "collapsed": false
   },
   "id": "843f43ccf8ccf5a0"
  },
  {
   "cell_type": "code",
   "outputs": [],
   "source": [
    "def trapezoidal_integration(f: Callable[[float], float], lower_lim: float, upper_lim: float, divisions: int) -> float:\n",
    "    \"\"\"\n",
    "    Perform trapezoidal integration on a function f\n",
    "    Args:\n",
    "        f (Callable[[float], float]): Function to be integrated, taking a single float and returning a float.\n",
    "        lower_lim (float): Lower limit of integration.\n",
    "        upper_lim (float): Upper limit of integration.\n",
    "        divisions (int): Number of divisions to use in integration.\n",
    "    Returns:\n",
    "        float: Integral of f from lower_lim to upper_lim.\n",
    "    Raises:\n",
    "        ValueError: If divisions is not a positive integer or if upper_lim is not greater than lower_lim.\n",
    "    \"\"\"\n",
    "    if divisions <= 0:\n",
    "        raise ValueError(\"Number of divisions must be a positive integer.\")\n",
    "    if upper_lim <= lower_lim:\n",
    "        raise ValueError(\"Upper limit must be greater than lower limit.\")\n",
    "\n",
    "    h = (upper_lim - lower_lim) / divisions\n",
    "    x_points = np.linspace(lower_lim + h, upper_lim - h, divisions - 1)\n",
    "    integral = (f(lower_lim) + f(upper_lim)) / 2 + np.sum(f(x_points))\n",
    "\n",
    "    return integral * h"
   ],
   "metadata": {
    "collapsed": false,
    "ExecuteTime": {
     "end_time": "2023-12-28T18:58:36.873332Z",
     "start_time": "2023-12-28T18:58:36.871136Z"
    }
   },
   "id": "27674cd52869cab",
   "execution_count": 12
  },
  {
   "cell_type": "code",
   "outputs": [
    {
     "name": "stdout",
     "output_type": "stream",
     "text": [
      "Integral of f(x) = x^2 from 0 to 1 with 1000 divisions: 0.33333349999999995\n",
      "Integral of f(x) = sin(x) from 0 to 3.141592653589793 with 1000 divisions: 1.9999983550656628\n"
     ]
    }
   ],
   "source": [
    "# Example 1: Integrate f(x) = x^2 from 0 to 1\n",
    "f = lambda x: x**2\n",
    "lower_lim = 0\n",
    "upper_lim = 1\n",
    "divisions = 1000\n",
    "\n",
    "integral = trapezoidal_integration(f, lower_lim, upper_lim, divisions)\n",
    "print(f\"Integral of f(x) = x^2 from {lower_lim} to {upper_lim} with {divisions} divisions: {integral}\")\n",
    "\n",
    "# Example 2: Integrate f(x) = sin(x) from 0 to pi\n",
    "f = lambda x: np.sin(x)\n",
    "lower_lim = 0\n",
    "upper_lim = np.pi\n",
    "divisions = 1000\n",
    "\n",
    "integral = trapezoidal_integration(f, lower_lim, upper_lim, divisions)\n",
    "print(f\"Integral of f(x) = sin(x) from {lower_lim} to {upper_lim} with {divisions} divisions: {integral}\")"
   ],
   "metadata": {
    "collapsed": false,
    "ExecuteTime": {
     "end_time": "2023-12-28T18:59:21.463127Z",
     "start_time": "2023-12-28T18:59:21.459057Z"
    }
   },
   "id": "801eb34db6e2f359",
   "execution_count": 14
  },
  {
   "cell_type": "markdown",
   "source": [
    "### Notes\n",
    "---\n",
    "\n",
    "- The accuracy of the Trapezoidal Rule depends on the number of divisions $n$. More divisions generally lead to a more accurate approximation.\n",
    "- The rule is especially effective for functions that are approximately linear over short intervals.\n",
    "- The error in the Trapezoidal Rule can be significant if the function is highly non-linear over large intervals or has discontinuities.\n",
    "\n",
    "\n",
    "### Theoretical Questions\n",
    "---\n",
    "\n",
    "1. **Understanding the Geometry**: Explain why the Trapezoidal Rule provides a better approximation than using rectangles (as in the Rectangle Rule) for the same number of divisions.\n",
    "\n",
    "2. **Error Analysis**: Derive the formula for the error in the Trapezoidal Rule. Discuss how the error changes with the number of divisions and the second derivative of the function being integrated.\n",
    "\n",
    "3. **Comparison with Other Methods**: Compare the Trapezoidal Rule with Simpson's Rule in terms of accuracy and computational complexity. In what scenarios might one be preferred over the other?\n",
    "\n",
    "4. **Limiting Behavior**: Discuss what happens to the result of the Trapezoidal Rule as the number of divisions approaches infinity. How does this relate to the concept of definite integration in calculus?\n",
    "\n",
    "5. **Rule Adaptation**: How would you modify the Trapezoidal Rule to handle functions with discontinuities or sharp peaks within the interval of integration?\n",
    "\n",
    "### Practical Questions\n",
    "---\n",
    "\n",
    "1. **Basic Application**: Use the Trapezoidal Rule to estimate the integral of $f(x) = x^2$ from $a = 0$ to $b = 2$ with 4 divisions. Compare your answer with the exact integral.\n",
    "\n",
    "2. **Programming Challenge**: Write a program or function in a programming language of your choice to implement the Trapezoidal Rule. Test your implementation with a known function and compare the results with the analytical integral.\n",
    "\n",
    "3. **Real-World Data**: Apply the Trapezoidal Rule to approximate the area under a curve represented by a set of experimental data points. Discuss the implications of choosing different numbers of divisions.\n",
    "\n",
    "4. **Comparative Analysis**: Use the Trapezoidal Rule to estimate the integral of $f(x) = \\sin(x)$ from $0$ to $\\pi$. Perform the calculation for different values of $n$ (e.g., 4, 8, 16) and observe how the approximation improves with more divisions.\n",
    "\n",
    "5. **Integration of Irregular Functions**: Apply the Trapezoidal Rule to estimate the integral of a piecewise function or a function with an integrable singularity. Discuss the challenges and strategies to handle such functions.\n"
   ],
   "metadata": {
    "collapsed": false
   },
   "id": "aefe491debe4e608"
  },
  {
   "cell_type": "code",
   "outputs": [],
   "source": [],
   "metadata": {
    "collapsed": false
   },
   "id": "da45cdb90155afb8"
  }
 ],
 "metadata": {
  "kernelspec": {
   "display_name": "Python 3",
   "language": "python",
   "name": "python3"
  },
  "language_info": {
   "codemirror_mode": {
    "name": "ipython",
    "version": 2
   },
   "file_extension": ".py",
   "mimetype": "text/x-python",
   "name": "python",
   "nbconvert_exporter": "python",
   "pygments_lexer": "ipython2",
   "version": "2.7.6"
  }
 },
 "nbformat": 4,
 "nbformat_minor": 5
}
