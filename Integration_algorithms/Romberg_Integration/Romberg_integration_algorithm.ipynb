{
 "cells": [
  {
   "cell_type": "code",
   "execution_count": 1,
   "id": "6c6f19cebd83e541",
   "metadata": {
    "collapsed": false,
    "ExecuteTime": {
     "end_time": "2023-12-28T19:34:19.985169Z",
     "start_time": "2023-12-28T19:34:19.820894Z"
    }
   },
   "outputs": [],
   "source": [
    "import numpy as np\n",
    "from typing import Callable, Union"
   ]
  },
  {
   "cell_type": "code",
   "outputs": [],
   "source": [
    "def romberg_integration(f: Callable[[float], float], a: float, b: float,\n",
    "                        tol=1e-6, max_iterations: int = 10) -> float:\n",
    "    \"\"\"\n",
    "    Compute the integral of a function f over the interval [a, b] using Romberg Integration.\n",
    "\n",
    "    Parameters:\n",
    "    f (callable): The function to integrate. It must be a function of a single variable.\n",
    "    a (float): The lower limit of integration.\n",
    "    b (float): The upper limit of integration.\n",
    "    tol (float): Tolerance for convergence. Default is 1e-6.\n",
    "    max_iterations (int): Maximum number of iterations to perform. Default is 10.\n",
    "\n",
    "    Returns:\n",
    "    float: Approximated integral of the function f from a to b.\n",
    "\n",
    "    Raises:\n",
    "    ValueError: If the number of iterations exceeds the maximum limit.\n",
    "\n",
    "    Notes:\n",
    "    The function uses an adaptive approach, increasing the order of the Romberg table until\n",
    "    the desired accuracy (tolerance) is achieved or the maximum number of iterations is reached.\n",
    "    \"\"\"\n",
    "\n",
    "    # Initialize the Romberg table with zeros\n",
    "    R = np.zeros((max_iterations, max_iterations), dtype=float)\n",
    "\n",
    "    # First estimate with the Trapezoidal Rule (0th column of Romberg table)\n",
    "    R[0, 0] = (f(a) + f(b)) * (b - a) / 2\n",
    "\n",
    "    # Iterate to fill the Romberg table\n",
    "    for i in range(1, max_iterations):\n",
    "        # Trapezoidal Rule refinement\n",
    "        h = (b - a) / (2 ** i)\n",
    "        sum_f = np.sum(f(a + np.arange(1, 2 ** i, 2) * h))\n",
    "        R[i, 0] = R[i - 1, 0] / 2 + h * sum_f\n",
    "\n",
    "        # Richardson extrapolation\n",
    "        for j in range(1, i + 1):\n",
    "            R[i, j] = R[i, j - 1] + (R[i, j - 1] - R[i - 1, j - 1]) / (4 ** j - 1)\n",
    "\n",
    "        # Check for convergence\n",
    "        if i > 0 and abs(R[i, i] - R[i - 1, i - 1]) < tol:\n",
    "            return R[i, i]\n",
    "\n",
    "    # Raise an error if convergence not reached within max iterations\n",
    "    raise ValueError(\"Romberg integration did not converge within the maximum number of iterations\")"
   ],
   "metadata": {
    "collapsed": true,
    "ExecuteTime": {
     "end_time": "2023-12-28T19:37:09.789406Z",
     "start_time": "2023-12-28T19:37:09.785518Z"
    }
   },
   "id": "initial_id",
   "execution_count": 8
  },
  {
   "cell_type": "code",
   "outputs": [
    {
     "name": "stdout",
     "output_type": "stream",
     "text": [
      "Integral of f(x) = x^2 from 0 to 1 with 1e-06 tolerance: 0.3333333333333333\n",
      "Integral of f(x) = sin(x) from 0 to 3.141592653589793 with 1e-06 tolerance: 2.0000000000013216\n",
      "Integral of f(x) = sin(x) / x from 0.0001 to 100000 with 1e-06 tolerance: 1.5707063204012854\n"
     ]
    }
   ],
   "source": [
    "## Example 1: Approximate the integral of f(x) = x^2 from 0 to 1\n",
    "# Example 1: Integrate f(x) = x^2 from 0 to 1\n",
    "f = lambda x: x**2\n",
    "lower_lim = 0\n",
    "upper_lim = 1\n",
    "tol = 1e-6\n",
    "\n",
    "integral = romberg_integration(f, lower_lim, upper_lim, tol)\n",
    "print(f\"Integral of f(x) = x^2 from {lower_lim} to {upper_lim} with {tol} tolerance: {integral}\")\n",
    "\n",
    "# Example 2: Integrate f(x) = sin(x) from 0 to pi\n",
    "f = lambda x: np.sin(x)\n",
    "lower_lim = 0\n",
    "upper_lim = np.pi\n",
    "tol = 1e-6\n",
    "\n",
    "integral = romberg_integration(f, lower_lim, upper_lim, tol=tol)\n",
    "print(f\"Integral of f(x) = sin(x) from {lower_lim} to {upper_lim} with {tol} tolerance: {integral}\")\n",
    "\n",
    "# Example 3: Integrate f(x) = sin(x) / x from 0 to infinity\n",
    "f = lambda x: np.sin(x) / x\n",
    "lower_lim = 0.0001\n",
    "upper_lim = 100000\n",
    "tol = 1e-6\n",
    "\n",
    "integral = romberg_integration(f, lower_lim, upper_lim, tol=1e-6, max_iterations=100)\n",
    "print(f\"Integral of f(x) = sin(x) / x from {lower_lim} to {upper_lim} with {tol} tolerance: {integral}\")"
   ],
   "metadata": {
    "collapsed": false,
    "ExecuteTime": {
     "end_time": "2023-12-28T19:39:42.178771Z",
     "start_time": "2023-12-28T19:39:42.169371Z"
    }
   },
   "id": "d9feae461ec42fe4",
   "execution_count": 13
  }
 ],
 "metadata": {
  "kernelspec": {
   "display_name": "Python 3",
   "language": "python",
   "name": "python3"
  },
  "language_info": {
   "codemirror_mode": {
    "name": "ipython",
    "version": 2
   },
   "file_extension": ".py",
   "mimetype": "text/x-python",
   "name": "python",
   "nbconvert_exporter": "python",
   "pygments_lexer": "ipython2",
   "version": "2.7.6"
  }
 },
 "nbformat": 4,
 "nbformat_minor": 5
}
