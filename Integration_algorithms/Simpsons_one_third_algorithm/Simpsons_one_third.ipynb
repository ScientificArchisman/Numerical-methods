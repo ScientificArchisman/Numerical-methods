{
 "cells": [
  {
   "cell_type": "markdown",
   "source": [
    "<h1 align=\"center\" style = \"color:green\">Simpson's 1/3 Rule</h1>\n",
    "\n",
    "---"
   ],
   "metadata": {
    "collapsed": false
   },
   "id": "6cc6c21f5287fb58"
  },
  {
   "cell_type": "markdown",
   "source": [
    "### Theory of Simpson's One-Third Rule\n",
    "\n",
    "Simpson's One-Third Rule is a method for numerical integration, specifically for approximating the definite integral of a function. It is derived from the idea of approximating the function to be integrated with a parabola over subintervals of the total interval. \n",
    "\n",
    "#### Basic Concept\n",
    "\n",
    "- The rule applies to a function $f(x)$ which is assumed to be continuous and well-behaved over the interval $[a, b]$.\n",
    "- The interval $[a, b]$ is divided into an even number $n$ of sub-intervals, each of width $h$. Therefore, $h = \\frac{b - a}{n}$.\n",
    "- This creates $n + 1$ equally spaced points $x_0, x_1, x_2, \\ldots, x_n$, where $x_0 = a$ and $x_n = b$.\n",
    "\n",
    "#### Approximation Formula\n",
    "\n",
    "The integral of $f(x)$ from $a$ to $b$ is approximated as:\n",
    "\n",
    "$$\n",
    "\\int_{a}^{b} f(x) \\, dx \\approx \\frac{h}{3} \\left[ f(x_0) + 4 \\sum_{i=1,3,5,\\ldots}^{n-1} f(x_i) + 2 \\sum_{i=2,4,6,\\ldots}^{n-2} f(x_i) + f(x_n) \\right]\n",
    "$$\n",
    "\n",
    "Here, the sum \\( \\sum_{i=1,3,5,\\ldots}^{n-1} \\) denotes the sum over all odd indices (excluding the last point), and \\( \\sum_{i=2,4,6,\\ldots}^{n-2} \\) denotes the sum over all even indices (excluding the first and last points).\n",
    "\n",
    "### Algorithm and Pseudocode\n",
    "\n",
    "#### Algorithm\n",
    "\n",
    "1. **Input**: Function $f$, lower limit $a$, upper limit $b$, number of sub-intervals $n$ (must be even).\n",
    "\n",
    "2. **Calculate Step Size**:\n",
    "   - Compute $h = \\frac{b - a}{n}$.\n",
    "\n",
    "3. **Initialize Variables**:\n",
    "   - Set $\\text{oddSum} = 0$ and $\\text{evenSum} = 0$.\n",
    "\n",
    "4. **Calculate Sums**:\n",
    "   - For $i = 1$ to $n-1$:\n",
    "     - If $i$ is odd, add $f(a + i \\cdot h)$ to $\\text{oddSum}$.\n",
    "     - If $i$ is even, add $f(a + i \\cdot h)$ to $\\text{evenSum}$.\n",
    "\n",
    "5. **Calculate Final Integral**:\n",
    "   - Compute \\( \\text{integral} = \\frac{h}{3} \\times \\left[ f(a) + 4 \\times \\text{oddSum} + 2 \\times \\text{evenSum} + f(b) \\right] \\).\n",
    "\n",
    "6. **Output**: Return \\( \\text{integral} \\).\n",
    "\n",
    "#### Pseudocode\n",
    "\n",
    "```\n",
    "FUNCTION SimpsonsOneThirdRule(f, a, b, n):\n",
    "    IF n % 2 != 0 THEN\n",
    "        RAISE ERROR \"n must be even\"\n",
    "    ENDIF\n",
    "\n",
    "    h = (b - a) / n\n",
    "    oddSum = 0\n",
    "    evenSum = 0\n",
    "\n",
    "    FOR i FROM 1 TO n - 1:\n",
    "        IF i % 2 != 0 THEN\n",
    "            oddSum = oddSum + f(a + i * h)\n",
    "        ELSE\n",
    "            evenSum = evenSum + f(a + i * h)\n",
    "        ENDIF\n",
    "    ENDFOR\n",
    "\n",
    "    integral = h / 3 * (f(a) + 4 * oddSum + 2 * evenSum + f(b))\n",
    "    RETURN integral\n",
    "END FUNCTION\n",
    "```"
   ],
   "metadata": {
    "collapsed": false
   },
   "id": "ae58bd7f4639f2bf"
  },
  {
   "cell_type": "code",
   "execution_count": 13,
   "id": "initial_id",
   "metadata": {
    "collapsed": true,
    "ExecuteTime": {
     "end_time": "2023-12-28T19:20:58.509921Z",
     "start_time": "2023-12-28T19:20:58.506943Z"
    }
   },
   "outputs": [],
   "source": [
    "import numpy as np\n",
    "from typing import Callable, Union"
   ]
  },
  {
   "cell_type": "code",
   "outputs": [],
   "source": [
    "def simpsons_one_third(f: Callable[[Union[float, np.ndarray]], Union[float, np.ndarray]], \n",
    "                       lower_lim: float, upper_lim: float, n: int) -> float:\n",
    "    \"\"\"\n",
    "    Approximates the integral of f from a to b using Simpson's 1/3 rule.\n",
    "\n",
    "    Parameters\n",
    "    ----------\n",
    "    f : Callable[Union[float, np.ndarray], Union[float, np.ndarray]]\n",
    "        The function to integrate.\n",
    "    lower_lim : float\n",
    "        The lower limit of integration.\n",
    "    upper_lim : float\n",
    "        The upper limit of integration.\n",
    "    n : int\n",
    "        The number of sub-intervals to use in the approximation.\n",
    "\n",
    "    Returns\n",
    "    -------\n",
    "    float\n",
    "        The approximate value of the integral.\n",
    "    \n",
    "    Raises\n",
    "    ------\n",
    "    ValueError\n",
    "        If n is odd or lower_lim >= upper_lim.\n",
    "    \"\"\"\n",
    "    if n % 2 != 0:\n",
    "        raise ValueError(\"n (Number of sub-intervals) must be even\")\n",
    "    if lower_lim >= upper_lim:\n",
    "        raise ValueError(\"Lower limit must be less than upper limit\")\n",
    "    \n",
    "    # Calculate the width of each sub-interval\n",
    "    h: float = (upper_lim - lower_lim) / n\n",
    "\n",
    "    x_values = np.linspace(lower_lim, upper_lim, n+1) # Array of x-values\n",
    "\n",
    "    odd_sum = np.sum(f(x_values[1:n:2])) # Sum of f(x) for odd indices\n",
    "    even_sum = np.sum(f(x_values[2:n-1:2])) # Sum of f(x) for even indices\n",
    "\n",
    "    # Initialise and return final answer\n",
    "    integral: float = f(lower_lim) + f(upper_lim) + 4 * odd_sum + 2 * even_sum\n",
    "    return  h / 3 * integral  # Multiply by h/3"
   ],
   "metadata": {
    "collapsed": false,
    "ExecuteTime": {
     "end_time": "2023-12-28T19:21:24.057444Z",
     "start_time": "2023-12-28T19:21:24.053662Z"
    }
   },
   "id": "c3ec4a261c2508da",
   "execution_count": 15
  },
  {
   "cell_type": "code",
   "outputs": [
    {
     "name": "stdout",
     "output_type": "stream",
     "text": [
      "Integral of f(x) = x^2 from 0 to 1 with 1000 divisions: 0.3333333333333333\n",
      "Integral of f(x) = sin(x) from 0 to 3.141592653589793 with 1000 divisions: 2.0000000000010827\n",
      "Integral of f(x) = sin(x) / x from 0.0001 to 1000 with 100000 divisions: 1.5701331219687942\n"
     ]
    }
   ],
   "source": [
    "## Example 1: Approximate the integral of f(x) = x^2 from 0 to 1\n",
    "# Example 1: Integrate f(x) = x^2 from 0 to 1\n",
    "f = lambda x: x**2\n",
    "lower_lim = 0\n",
    "upper_lim = 1\n",
    "divisions = 1000\n",
    "\n",
    "integral = simpsons_one_third(f, lower_lim, upper_lim, divisions)\n",
    "print(f\"Integral of f(x) = x^2 from {lower_lim} to {upper_lim} with {divisions} divisions: {integral}\")\n",
    "\n",
    "# Example 2: Integrate f(x) = sin(x) from 0 to pi\n",
    "f = lambda x: np.sin(x)\n",
    "lower_lim = 0\n",
    "upper_lim = np.pi\n",
    "divisions = 1000\n",
    "\n",
    "integral = simpsons_one_third(f, lower_lim, upper_lim, divisions)\n",
    "print(f\"Integral of f(x) = sin(x) from {lower_lim} to {upper_lim} with {divisions} divisions: {integral}\")\n",
    "\n",
    "# Example 3: Integrate f(x) = sin(x) / x from 0 to infinity\n",
    "f = lambda x: np.sin(x) / x\n",
    "lower_lim = 0.0001\n",
    "upper_lim = 1000\n",
    "divisions = 100000\n",
    "\n",
    "integral = simpsons_one_third(f, lower_lim, upper_lim, divisions)\n",
    "print(f\"Integral of f(x) = sin(x) / x from {lower_lim} to {upper_lim} with {divisions} divisions: {integral}\")"
   ],
   "metadata": {
    "collapsed": false,
    "ExecuteTime": {
     "end_time": "2023-12-28T19:37:27.169383Z",
     "start_time": "2023-12-28T19:37:27.160240Z"
    }
   },
   "id": "5d59bbeecca5b977",
   "execution_count": 23
  },
  {
   "cell_type": "markdown",
   "source": [
    "### Notes\n",
    "---\n",
    "\n",
    "- Simpson's One-Third Rule is more accurate than the Trapezoidal Rule for functions that are well approximated by parabolas over small intervals.\n",
    "- The rule requires that the number of sub-intervals \\( n \\) be even. If \\( n \\) is odd, the rule cannot be directly applied.\n",
    "- The accuracy of the approximation increases with the increase in the number of sub-intervals \\( n \\). However, this also increases computational effort.\n",
    "\n",
    "\n",
    "### Theoretical Questions\n",
    "---\n",
    "\n",
    "1. **Derivation**: Derive Simpson's One-Third Rule starting from the approximation of the integral using a second-degree polynomial (parabola). Show how the coefficients 1, 4, and 2 arise in the formula.\n",
    "\n",
    "2. **Error Analysis**: Derive an expression for the error in Simpson's One-Third Rule. Discuss the relation between the error, the fourth derivative of the function $f(x)$, and the interval width $h$. The error term is often given by $$E = -\\frac{h^5}{90}(b-a)f^{(4)}(\\xi)$$ where $\\xi$ is some value in the interval $[a, b]$.\n",
    "\n",
    "3. **Rule Comparison**: Compare Simpson's One-Third Rule with the Trapezoidal Rule in terms of accuracy and computational efficiency. In which scenarios is Simpson's rule more accurate?\n",
    "\n",
    "4. **Rule Extension**: Explain how Simpson's One-Third Rule can be adapted for cases where the number of sub-intervals $n$ is odd.\n",
    "\n",
    "5. **Limiting Behavior**: Discuss the limiting behavior of Simpson's One-Third Rule as the number of sub-intervals $n$ approaches infinity. How does this relate to the fundamental theorem of calculus?\n",
    "\n",
    "### Practical Questions\n",
    "---\n",
    "\n",
    "1. **Basic Application**: Use Simpson's One-Third Rule to estimate the integral of $f(x) = x^3$ from $a = 1$ to $b = 3$ with $n = 4$. Compare your answer with the exact integral.\n",
    "\n",
    "2. **Programming Challenge**: Implement Simpson's One-Third Rule in a programming language of your choice. Test it with $f(x) = e^x$ over the interval from 0 to 1 and compare the results with the analytical integral.\n",
    "\n",
    "3. **Real-World Data**: Apply Simpson's One-Third Rule to approximate the area under a curve represented by experimental data points. Discuss handling data that isn't evenly spaced.\n",
    "\n",
    "4. **Comparative Analysis**: Estimate the integral of $f(x) = \\sin(x)$ from $0$ to $\\pi$ using Simpson's One-Third Rule. Vary $n$ (e.g., 4, 6, 8) and observe the improvements in approximation.\n",
    "\n",
    "5. **Challenging Function**: Estimate the integral of a rapidly changing function, such as $f(x) = \\sin(10x)$ from $0$ to $\\pi$, using Simpson's One-Third Rule. Discuss challenges and strategies for selecting an appropriate $n$."
   ],
   "metadata": {
    "collapsed": false
   },
   "id": "d6cb011bfa981f7"
  },
  {
   "cell_type": "code",
   "outputs": [],
   "source": [],
   "metadata": {
    "collapsed": false
   },
   "id": "2fa8578d0d1a2278"
  }
 ],
 "metadata": {
  "kernelspec": {
   "display_name": "Python 3",
   "language": "python",
   "name": "python3"
  },
  "language_info": {
   "codemirror_mode": {
    "name": "ipython",
    "version": 2
   },
   "file_extension": ".py",
   "mimetype": "text/x-python",
   "name": "python",
   "nbconvert_exporter": "python",
   "pygments_lexer": "ipython2",
   "version": "2.7.6"
  }
 },
 "nbformat": 4,
 "nbformat_minor": 5
}
