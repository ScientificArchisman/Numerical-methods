{
 "cells": [
  {
   "cell_type": "code",
   "execution_count": 13,
   "metadata": {},
   "outputs": [
    {
     "data": {
      "text/latex": [
       "$\\displaystyle 4$"
      ],
      "text/plain": [
       "4"
      ]
     },
     "execution_count": 13,
     "metadata": {},
     "output_type": "execute_result"
    }
   ],
   "source": [
    "import sympy as sp \n",
    "import numpy as np\n",
    "from scipy.signal import convolve2d\n",
    "x1, x2, x3 = sp.symbols('x1 x2 x3')\n",
    "\n",
    "y1 = x1 - x2 + 2*x3 + 1\n",
    "y2 = x2 + 3*x3 + 2\n",
    "\n",
    "y3 = 4 * y1 + 2 * y2 + 6\n",
    "y3.subs({x1: 1, x2: 0, x3: -1})"
   ]
  },
  {
   "cell_type": "code",
   "execution_count": 14,
   "metadata": {},
   "outputs": [
    {
     "data": {
      "text/latex": [
       "$\\displaystyle 4 x_{1} - 2 x_{2} + 14 x_{3} + 14$"
      ],
      "text/plain": [
       "4*x1 - 2*x2 + 14*x3 + 14"
      ]
     },
     "execution_count": 14,
     "metadata": {},
     "output_type": "execute_result"
    }
   ],
   "source": [
    "y3"
   ]
  },
  {
   "cell_type": "markdown",
   "metadata": {},
   "source": [
    "## Question 2"
   ]
  },
  {
   "cell_type": "code",
   "execution_count": 28,
   "metadata": {},
   "outputs": [],
   "source": [
    "matrix = np.array([\n",
    "    [1, 2, -2, 1], \n",
    "    [3, 1, 2, -1], \n",
    "    [2, -2, -1, 2], \n",
    "    [0, 1, 0, 0]\n",
    "])\n",
    "kernel = np.array([\n",
    "    [-1, 1], \n",
    "    [0, 2]\n",
    "])\n",
    "\n",
    "fx = lambda x : np.maximum(0.5 * x, x)"
   ]
  },
  {
   "cell_type": "code",
   "execution_count": 29,
   "metadata": {},
   "outputs": [],
   "source": [
    "def convolve2d_with_stride(matrix, kernel, stride=1):\n",
    "    kernel_height, kernel_width = kernel.shape\n",
    "    matrix_height, matrix_width = matrix.shape\n",
    "    \n",
    "    # Adjusting output dimensions based on stride\n",
    "    output_height = ((matrix_height - kernel_height) // stride) + 1\n",
    "    output_width = ((matrix_width - kernel_width) // stride) + 1\n",
    "    \n",
    "    # Initialize output matrix\n",
    "    output = np.zeros((output_height, output_width))\n",
    "    \n",
    "    # Perform convolution with stride\n",
    "    for i in range(output_height):\n",
    "        for j in range(output_width):\n",
    "            # Calculate the starting point for the current stride\n",
    "            row_start = i * stride\n",
    "            col_start = j * stride\n",
    "            # Compute convolution for the current window\n",
    "            output[i, j] = np.sum(matrix[row_start:row_start+kernel_height, col_start:col_start+kernel_width] * kernel)\n",
    "    \n",
    "    return output"
   ]
  }
 ],
 "metadata": {
  "kernelspec": {
   "display_name": "Python 3",
   "language": "python",
   "name": "python3"
  },
  "language_info": {
   "codemirror_mode": {
    "name": "ipython",
    "version": 3
   },
   "file_extension": ".py",
   "mimetype": "text/x-python",
   "name": "python",
   "nbconvert_exporter": "python",
   "pygments_lexer": "ipython3",
   "version": "3.11.5"
  }
 },
 "nbformat": 4,
 "nbformat_minor": 2
}
